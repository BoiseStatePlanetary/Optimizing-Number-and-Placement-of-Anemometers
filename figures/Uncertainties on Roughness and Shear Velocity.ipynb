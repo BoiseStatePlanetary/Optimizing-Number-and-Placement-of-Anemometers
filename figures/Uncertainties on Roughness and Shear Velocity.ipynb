{
 "cells": [
  {
   "cell_type": "code",
   "execution_count": 112,
   "id": "ec204df6",
   "metadata": {},
   "outputs": [],
   "source": [
    "%matplotlib inline\n",
    "import numpy as np\n",
    "import matplotlib.pyplot as plt\n",
    "from numpy.random import normal, random\n",
    "from scipy.optimize import curve_fit\n",
    "from scipy.special import gamma"
   ]
  },
  {
   "cell_type": "markdown",
   "id": "10e31a55",
   "metadata": {},
   "source": [
    "From _Numerical Recipes_, ch. 15.2:\n",
    "$$\n",
    "S = \\sum_{i=0}^{N-1} \\frac{1}{\\sigma_i^2}, \n",
    "S_x = \\sum_{i=0}^{N-1} \\frac{x_i}{\\sigma_i^2}, \n",
    "S_y = \\sum_{i=0}^{N-1} \\frac{y_i}{\\sigma_i^2}, \n",
    "S_{xx} = \\sum_{i=0}^{N-1} \\frac{x_i^2}{\\sigma_i^2}, \n",
    "S_{xy} = \\sum_{i=0}^{N-1} \\frac{x_i y_i}{\\sigma_i^2}\n",
    "$$"
   ]
  },
  {
   "cell_type": "markdown",
   "id": "0eb8d725",
   "metadata": {},
   "source": [
    "$$\n",
    "\\Delta = S S_{xx} - \\left( S_x \\right)^2, \n",
    "a = \\frac{S_{xx} S_y - S_x S_{xy}}{\\Delta},\n",
    "b = \\frac{S S_{xy} - S_x S_y}{\\Delta}\n",
    "$$"
   ]
  },
  {
   "cell_type": "markdown",
   "id": "d1abba17",
   "metadata": {},
   "source": [
    "$$\n",
    "\\sigma_a^2 = \\frac{S_{xx}}{\\Delta},\n",
    "\\sigma_b^2 = \\frac{S}{\\Delta}\n",
    "$$"
   ]
  },
  {
   "cell_type": "markdown",
   "id": "8c7b07c0",
   "metadata": {},
   "source": [
    "The velocity profile is given by\n",
    "$$\n",
    "u(z) = \\frac{u_\\star}{\\kappa} \\ln \\left( \\frac{z}{z_\\star} \\right)\n",
    "$$\n",
    "with $z_\\star$ as the roughness scale (as opposed to the usual $z_0$)."
   ]
  },
  {
   "cell_type": "markdown",
   "id": "b29a3e1d",
   "metadata": {},
   "source": [
    "Re-casting as a linear fit:$y_i = m x_i + b$ with $x_i = \\ln \\left( z_i / z_0 \\right)$, $y_i = u(z_i)$, $m = u_\\star/\\kappa$, and $b = -\\dfrac{u_\\star}{\\kappa} \\ln \\left( \\dfrac{z_\\star}{z_0} \\right)$, where $z_0$ is the bottom anemometer height."
   ]
  },
  {
   "cell_type": "markdown",
   "id": "3e607b70",
   "metadata": {},
   "source": [
    "Assume logarithmic spacing, i.e. $\\ln\\left( z_i / z_0 \\right) = i\\ \\delta x$."
   ]
  },
  {
   "cell_type": "code",
   "execution_count": 3,
   "id": "7035e4ea",
   "metadata": {},
   "outputs": [],
   "source": [
    "def calc_S(sigma):\n",
    "    return np.sum(1./sigma**2)\n",
    "\n",
    "def calc_Sx(x, sigma):\n",
    "    return np.sum(x/sigma**2)\n",
    "\n",
    "def calc_Sxx(x, sigma):\n",
    "    return np.sum(x**2/sigma**2)\n",
    "\n",
    "def calc_Sy(y, sigma):\n",
    "    return np.sum(y/sigma**2)\n",
    "\n",
    "def calc_Syy(y, sigma):\n",
    "    return np.sum(y**2/sigma**2)\n",
    "\n",
    "def calc_Sxy(x, y, sigma):\n",
    "    return np.sum(x*y/sigma**2)\n",
    "\n",
    "def calc_Delta(x, sigma):\n",
    "    S = calc_S(sigma)\n",
    "    Sxx = calc_Sxx(x, sigma)\n",
    "    Sx = calc_Sx(x, sigma)\n",
    "    \n",
    "    return S*Sxx - Sx**2\n",
    "\n",
    "def calc_intercept(x, y, sigma):\n",
    "    Sxx = calc_Sxx(x, sigma)\n",
    "    Sy = calc_Sy(y, sigma)\n",
    "    Sx = calc_Sx(x, sigma)\n",
    "    Sxy = calc_Sxy(x, y, sigma)\n",
    "    Delta = calc_Delta(x, sigma)\n",
    "    \n",
    "    return (Sxx*Sy - Sx*Sxy)/Delta\n",
    "\n",
    "def calc_slope(x, y, sigma):\n",
    "    S = calc_S(sigma)\n",
    "    Sxy = calc_Sxy(x, y, sigma)\n",
    "    Sx = calc_Sx(x, sigma)\n",
    "    Sy = calc_Sy(y, sigma)\n",
    "    Delta = calc_Delta(x, sigma)\n",
    "    \n",
    "    return (S*Sxy - Sx*Sy)/Delta\n",
    "\n",
    "def sigma_intercept(x, sigma):\n",
    "    Sxx = calc_Sxx(x, sigma)\n",
    "    Delta = calc_Delta(x, sigma)\n",
    "    \n",
    "    return np.sqrt(Sxx/Delta)\n",
    "\n",
    "def sigma_slope(x, sigma):\n",
    "    S = calc_S(sigma)\n",
    "    Delta = calc_Delta(x, sigma)\n",
    "    \n",
    "    return np.sqrt(S/Delta)"
   ]
  },
  {
   "cell_type": "code",
   "execution_count": 4,
   "id": "63a3017a",
   "metadata": {},
   "outputs": [
    {
     "name": "stdout",
     "output_type": "stream",
     "text": [
      "10.13628054852832 3.0932727056271365\n",
      "0.7905694150420948 3.872983346207417\n",
      "[10.13628056  3.09327263]\n",
      "[0.60459007 2.96187423]\n"
     ]
    },
    {
     "data": {
      "image/png": "[encoded data removed]",
      "text/plain": [
       "<Figure size 432x288 with 1 Axes>"
      ]
     },
     "metadata": {
      "needs_background": "light"
     },
     "output_type": "display_data"
    }
   ],
   "source": [
    "def lin_fit(x, m, b):\n",
    "    return m*x + b\n",
    "\n",
    "# Let's test these expressions\n",
    "num_sensors = 5\n",
    "delta_x = 2.\n",
    "sigma = 5.*np.ones(num_sensors)\n",
    "slope = 10.\n",
    "intercept = 1.\n",
    "\n",
    "x = np.arange(num_sensors)*delta_x\n",
    "y = np.polyval([slope, intercept], x)\n",
    "noisy_y = y + normal(scale=sigma, size=num_sensors)\n",
    "\n",
    "# print(calc_S(sigma), calc_Sxx(x, sigma), calc_Sx(x, sigma), calc_Delta(x, sigma))\n",
    "print(calc_slope(x, noisy_y, sigma), calc_intercept(x, noisy_y, sigma))\n",
    "print(sigma_slope(x, sigma), sigma_intercept(x, sigma))\n",
    "\n",
    "plt.plot(x, y)\n",
    "plt.plot(x, noisy_y, marker='o')\n",
    "\n",
    "popt, pcov = curve_fit(lin_fit, x, noisy_y, sigma=sigma*np.ones_like(x), p0=[slope, intercept])\n",
    "unc = np.sqrt(np.diag(pcov))\n",
    "print(popt)\n",
    "print(unc)\n",
    "\n",
    "# print(np.polyfit(x, noisy_y, 1, w=1./sigma*np.ones_like(x), full=True))"
   ]
  },
  {
   "cell_type": "code",
   "execution_count": 5,
   "id": "57d53404",
   "metadata": {},
   "outputs": [
    {
     "name": "stdout",
     "output_type": "stream",
     "text": [
      "0.7905694150420949 0.7905694150420948\n"
     ]
    }
   ],
   "source": [
    "def calc_analytic_Delta(delta_x, sigma, N):  \n",
    "    return delta_x**2/12./sigma**4*(N - 1)**2*N*(N - 2) # WRONG!\n",
    "\n",
    "def calc_analytic_S(sigma, N):\n",
    "    return N/sigma**2\n",
    "\n",
    "def calc_analytic_Sx(delta_x, sigma, N):\n",
    "    return 0.5*delta_x/sigma**2*(N - 1)*N\n",
    "\n",
    "def calc_analytic_Sxx(delta_x, sigma, N):\n",
    "    return delta_x**2/sigma**2*(N - 1)*N*(2*N - 1)/6\n",
    "\n",
    "def calc_analytic_Delta(delta_x, sigma, N):\n",
    "    return delta_x**2/sigma**4/12*N**2*(N**2 - 1)\n",
    "\n",
    "def calc_analytic_sigma_intercept(sigma, N):\n",
    "    return np.sqrt(2.*sigma**2*(2*N - 1)/N/(N + 1))\n",
    "\n",
    "def calc_analytic_sigma_slope(delta_x, sigma, N):\n",
    "    return np.sqrt(12*sigma**2/delta_x**2/N/(N**2 - 1))\n",
    "\n",
    "# print(calc_analytic_Delta(delta_x, sigma[0], len(sigma)), calc_Delta(x, sigma))\n",
    "# print(calc_analytic_S(sigma[0], len(sigma)), calc_S(sigma))\n",
    "# print(calc_analytic_Sx(delta_x, sigma[0], len(sigma)), calc_Sx(x, sigma))\n",
    "# print(calc_analytic_Sxx(delta_x, sigma[0], len(sigma)), calc_Sxx(x, sigma))\n",
    "# print(calc_analytic_Delta(delta_x, sigma[0], len(sigma)), calc_Delta(x, sigma))\n",
    "# print(calc_analytic_sigma_intercept(sigma[0], len(sigma)), sigma_intercept(x, sigma))\n",
    "print(calc_analytic_sigma_slope(delta_x, sigma[0], len(sigma)), sigma_slope(x, sigma))"
   ]
  },
  {
   "cell_type": "markdown",
   "id": "c7ba5115",
   "metadata": {},
   "source": [
    "Assuming logarithmically spaced anemometers with a constant uncertainty for each measurement:\n",
    "$$\n",
    "\\sigma_{\\rm intercept}^2 = \\left( \\dfrac{2 \\left( 2N - 1 \\right) }{N \\left( N + 1 \\right) } \\right) \\sigma^2 \\\\\n",
    "\\sigma_{\\rm slope}^2 = \\left( \\dfrac{12}{N \\left( N^2 - 1 \\right) \\delta x^2 } \\right) \\sigma^2 \n",
    "$$"
   ]
  },
  {
   "cell_type": "code",
   "execution_count": 13,
   "id": "7771863d",
   "metadata": {},
   "outputs": [
    {
     "data": {
      "text/plain": [
       "(0.0, 1.0)"
      ]
     },
     "execution_count": 13,
     "metadata": {},
     "output_type": "execute_result"
    },
    {
     "data": {
      "image/png": "[encoded data removed]",
      "text/plain": [
       "<Figure size 432x288 with 1 Axes>"
      ]
     },
     "metadata": {
      "needs_background": "light"
     },
     "output_type": "display_data"
    }
   ],
   "source": [
    "nums_sensors = np.arange(2, 11)\n",
    "\n",
    "sigmas_intercept = calc_analytic_sigma_intercept(1., nums_sensors)\n",
    "sigmas_slope = calc_analytic_sigma_slope(delta_x, 1., nums_sensors)\n",
    "\n",
    "plt.plot(nums_sensors, (sigmas_intercept - sigmas_intercept[-1])/sigmas_intercept[-1])\n",
    "plt.plot(nums_sensors, (sigmas_slope - sigmas_slope[-1])/sigmas_slope[-1])\n",
    "\n",
    "plt.ylim([0, 1])"
   ]
  },
  {
   "cell_type": "code",
   "execution_count": 6,
   "id": "dd4a9d7a",
   "metadata": {},
   "outputs": [
    {
     "name": "stdout",
     "output_type": "stream",
     "text": [
      "[3.5        2.17142857 2.10526316 3.25       2.34615385 2.29508197]\n"
     ]
    },
    {
     "data": {
      "image/png": "[encoded data removed]",
      "text/plain": [
       "<Figure size 432x288 with 1 Axes>"
      ]
     },
     "metadata": {
      "needs_background": "light"
     },
     "output_type": "display_data"
    }
   ],
   "source": [
    "# z values from Pelletier & Field (2016)\n",
    "zs = np.array([0.01, 0.035, 0.076, 0.16, 0.52, 1.22, 2.8]) # m\n",
    "plt.plot(zs, marker='o')\n",
    "plt.plot(np.log(zs), marker='o')\n",
    "\n",
    "# Roughly logarithmic spacing\n",
    "print(zs[1:]/zs[0:-1])"
   ]
  },
  {
   "cell_type": "code",
   "execution_count": 14,
   "id": "9b014aaa",
   "metadata": {},
   "outputs": [
    {
     "name": "stdout",
     "output_type": "stream",
     "text": [
      "4.000000000000002 0.009048374180359616\n",
      "4.054512219411328 0.00736999239547812\n",
      "0.316227766016838 0.0033122487967006727\n",
      "0.5067197206180072\n"
     ]
    }
   ],
   "source": [
    "def calc_zstar_from_slope_and_intercept(z0, slope, intercept):\n",
    "    return z0*np.exp(-intercept/slope)\n",
    "\n",
    "def calc_analytic_ustar(kappa, x, y, sigma):\n",
    "    return kappa*calc_slope(x, y, sigma)\n",
    "\n",
    "def calc_analytic_zstar(z0, x, y, sigma):\n",
    "    slope = calc_slope(x, y, sigma)\n",
    "    intercept = calc_intercept(x, y, sigma)\n",
    "    \n",
    "    return calc_zstar_from_slope_and_intercept(z0, slope, intercept)\n",
    "\n",
    "def calc_analytic_sigma_ustar(kappa, delta_x, sigma, N):\n",
    "    return kappa*calc_analytic_sigma_slope(delta_x, sigma, N)\n",
    "\n",
    "def calc_analytic_sigma_zstar(kappa, z0, delta_x, x, y, sigma):\n",
    "    N = len(x)\n",
    "    \n",
    "    ustar = calc_analytic_ustar(kappa, x, y, sigma)\n",
    "    zstar = calc_analytic_zstar(z0, x, y, sigma)\n",
    "    intercept = calc_intercept(x, y, sigma)\n",
    "    \n",
    "    sigma_intercept = calc_analytic_sigma_intercept(sigma[0], N)\n",
    "    sigma_ustar = calc_analytic_sigma_ustar(kappa, delta_x, sigma[0], N)\n",
    "    \n",
    "    return np.sqrt(sigma_intercept**2/ustar**2 - intercept**2*sigma_ustar**2)*kappa*zstar\n",
    "\n",
    "zs = np.array([0.01, 0.035, 0.076, 0.16, 0.52, 1.22, 2.8]) # m\n",
    "z0 = zs[0]\n",
    "kappa = 0.4\n",
    "\n",
    "# print(calc_slope(x, noisy_y, sigma), calc_intercept(x, noisy_y, sigma))\n",
    "# print(calc_analytic_sigma_slope(delta_x, sigma[0], num_sensors), \n",
    "#       calc_analytic_sigma_intercept(sigma[0], num_sensors))\n",
    "print(calc_analytic_ustar(kappa, x, y, sigma), calc_analytic_zstar(z0, x, y, sigma))\n",
    "print(calc_analytic_ustar(kappa, x, noisy_y, sigma), calc_analytic_zstar(z0, x, noisy_y, sigma))\n",
    "print(calc_analytic_sigma_ustar(kappa, delta_x, sigma[0], num_sensors), \n",
    "      calc_analytic_sigma_zstar(kappa, z0, delta_x, x, y, sigma))\n",
    "\n",
    "print((calc_analytic_zstar(z0, x, y, sigma) - calc_analytic_zstar(z0, x, noisy_y, sigma))/\\\n",
    "      calc_analytic_sigma_zstar(kappa, z0, delta_x, x, y, sigma))"
   ]
  },
  {
   "cell_type": "markdown",
   "id": "f6b03b18",
   "metadata": {},
   "source": [
    "---"
   ]
  },
  {
   "cell_type": "markdown",
   "id": "969d61e5",
   "metadata": {},
   "source": [
    "What if measured velocities are distributed according to Weibull distribution? How many samples/how well do you need to sample the distribution to get good fit parameters?"
   ]
  },
  {
   "cell_type": "markdown",
   "id": "5292a478",
   "metadata": {},
   "source": [
    "The probability distribution function for Weibull $p(v)$ is\n",
    "$$\n",
    "p(v) = \\dfrac{k}{\\lambda} \\left( \\dfrac{v}{\\lambda} \\right)^{k-1} e^{-\\left( v/\\lambda \\right)^k}\n",
    "$$\n",
    "with $k$ and $\\lambda$ between 0 and $\\infty$.\n",
    "\n",
    "$p(v)$ has a mean $\\langle v \\rangle = \\lambda \\Gamma(1 + 1/k)$, with $\\Gamma$ the Gamma function. The variance $\\sigma^2 = \\lambda^2 \\bigg[ \\Gamma(1 + 2/k) - \\left( \\Gamma(1 + 1/k) \\right)^2\\bigg]$."
   ]
  },
  {
   "cell_type": "markdown",
   "id": "56b90911",
   "metadata": {},
   "source": [
    "Weibull has the cumulative distribution function $P(< v)$\n",
    "$$\n",
    "P(< v) = 1 - e^{-(v/\\lambda)^k}.\n",
    "$$"
   ]
  },
  {
   "cell_type": "markdown",
   "id": "21188c2d",
   "metadata": {},
   "source": [
    "With a collection of measured wind velocities, we can make a histogram and then attempt to fit $k$ and $\\lambda$ (as in Viudez-Moreiras+ (2017 - http://www-mars.lmd.jussieu.fr/granada2017/abstracts/viudez-moreiras_granada2017.pdf)), but this approach requires choosing bin sizes, which can affect the results. \n",
    "\n",
    "Working with the cumulative distribution function sidesteps this issue. Moreover, we can analytically solve for the uncertainties by slightly re-casting the problem."
   ]
  },
  {
   "cell_type": "markdown",
   "id": "66d1fc48",
   "metadata": {},
   "source": [
    "$e^{-\\left( v/\\lambda \\right)^k} = 1 - P(< v)$"
   ]
  },
  {
   "cell_type": "markdown",
   "id": "ab22f2dd",
   "metadata": {},
   "source": [
    "$-(v/\\lambda)^k = \\ln \\left(1 - P\\right)$"
   ]
  },
  {
   "cell_type": "markdown",
   "id": "55b2d9b2",
   "metadata": {},
   "source": [
    "$k\\ln(v/\\lambda) = \\ln\\left( \\ln \\left( 1/(1 - P) \\right) \\right)$"
   ]
  },
  {
   "cell_type": "markdown",
   "id": "b127534d",
   "metadata": {},
   "source": [
    "$k \\ln v - k\\ln \\lambda = y$"
   ]
  },
  {
   "cell_type": "markdown",
   "id": "68f43a4f",
   "metadata": {},
   "source": [
    "$P$ will go from 0 to 1, meaning $\\ln(1 - P)$ will go from 0 to $-\\infty$..."
   ]
  },
  {
   "cell_type": "markdown",
   "id": "056c7b1a",
   "metadata": {},
   "source": [
    "Take $x \\equiv v^k$ and the slope $b \\equiv -(1/\\lambda)^k$. $y \\equiv \\ln (1 - P)$"
   ]
  },
  {
   "cell_type": "markdown",
   "id": "e41b5448",
   "metadata": {},
   "source": [
    "$k\\left( v/\\lambda \\right) = \\ln \\left( \\ln(1/(1 - P)) \\right) $"
   ]
  },
  {
   "cell_type": "markdown",
   "id": "ed55caff",
   "metadata": {},
   "source": [
    "$v = \\lambda (\\ln(x))^{(1/k)}$ such that $v = 0$ when $x = 1$ and $v \\rightarrow \\infty$ for $x \\rightarrow \\infty$."
   ]
  },
  {
   "cell_type": "markdown",
   "id": "a257842a",
   "metadata": {},
   "source": [
    "$$\n",
    "e^{-\\left( \\dfrac{\\lambda (\\ln x)^{1/k}}{\\lambda} \\right)^k} = 1 - P(< v)\n",
    "$$"
   ]
  },
  {
   "cell_type": "markdown",
   "id": "c16ddd87",
   "metadata": {},
   "source": [
    "$ -x = 1 - P$"
   ]
  },
  {
   "cell_type": "code",
   "execution_count": 97,
   "id": "37634bbd",
   "metadata": {},
   "outputs": [
    {
     "data": {
      "text/plain": [
       "[<matplotlib.lines.Line2D at 0x123ab8f40>]"
      ]
     },
     "execution_count": 97,
     "metadata": {},
     "output_type": "execute_result"
    },
    {
     "data": {
      "image/png": "[encoded data removed]",
      "text/plain": [
       "<Figure size 432x288 with 1 Axes>"
      ]
     },
     "metadata": {
      "needs_background": "light"
     },
     "output_type": "display_data"
    }
   ],
   "source": [
    "def Weibull_CDF(v, lamb, k):\n",
    "    return 1 - np.exp(-(v/lamb)**k)\n",
    "\n",
    "def Weibull_PDF(v, lamb, k):\n",
    "    return (k/lamb)*(v/lamb)**k*np.exp(-(v/lamb)**k)\n",
    "\n",
    "def inv_Weibull_CDF(p, lamb, k):\n",
    "    return np.log(1./(1. - p))**(1./k)*lamb\n",
    "\n",
    "def crazy_function(p):\n",
    "    return np.log(np.log(1/(1 - p)))\n",
    "\n",
    "def Weibull_mean(lamb, k):\n",
    "    return lamb*gamma(1 + 1/k)\n",
    "\n",
    "def Weibull_variance(lamb, k):\n",
    "    return lamb**2*(gamma(1 + 2/k) - gamma(1 + 1/k)**2)\n",
    "\n",
    "lamb = 5.\n",
    "k = 2.\n",
    "\n",
    "# Random\n",
    "min_v = 0\n",
    "max_v = 20. #m/s\n",
    "num_velocities = 100\n",
    "# v = np.sort(random(num_velocities)*(max_v - min_v) + min_v)\n",
    "# plt.plot(v, Weibull_CDF(v, lamb, k))\n",
    "# plt.plot(v, Weibull_PDF(v, lamb, k))\n",
    "\n",
    "# ps = np.linspace(0., 1., 1000)\n",
    "# plt.plot(ps, np.log(inv_Weibull_CDF(ps, lamb, k)))\n",
    "# plt.plot(ps, crazy_function(ps))\n",
    "\n",
    "vs = inv_Weibull_CDF(random(num_velocities), lamb, k)\n",
    "hst, bin_edges = np.histogram(vs, bins=[*np.sort(vs), max_v + 1])\n",
    "cum_hst = np.cumsum(hst, axis=0)\n",
    "err_cum_hst = np.sqrt(cum_hst)\n",
    "cum_hst = cum_hst / num_velocities\n",
    "err_cum_hst = err_cum_hst / num_velocities\n",
    "plt.plot(np.sort(vs), cum_hst)"
   ]
  },
  {
   "cell_type": "code",
   "execution_count": 104,
   "id": "80a3291a",
   "metadata": {},
   "outputs": [
    {
     "name": "stdout",
     "output_type": "stream",
     "text": [
      "[0.01318646 0.03394614]\n",
      "correct mean, variance:  4.4311346272637895 5.365045915063796\n",
      "fit mean, variance:  4.487445064345427 5.181598351839543\n",
      "mismatch:  -0.012707904818592458 0.034193102189335293\n"
     ]
    },
    {
     "data": {
      "image/png": "[encoded data removed]",
      "text/plain": [
       "<Figure size 432x288 with 1 Axes>"
      ]
     },
     "metadata": {
      "needs_background": "light"
     },
     "output_type": "display_data"
    }
   ],
   "source": [
    "lamb = 5.\n",
    "k = 2.\n",
    "\n",
    "# Random\n",
    "min_v = 0\n",
    "max_v = 20. #m/s\n",
    "num_velocities = 1000\n",
    "\n",
    "vs = inv_Weibull_CDF(random(num_velocities), lamb, k)\n",
    "hst, bin_edges = np.histogram(vs, bins=[*np.sort(vs), max_v + 1])\n",
    "cum_hst = np.cumsum(hst, axis=0)\n",
    "cum_hst = cum_hst / num_velocities\n",
    "plt.plot(np.sort(vs), cum_hst)\n",
    "\n",
    "popt, pcov = curve_fit(Weibull_CDF, np.sort(vs), cum_hst, p0=[5, 2])\n",
    "unc = np.sqrt(np.diag(pcov))\n",
    "print((popt - [lamb, k])/[lamb, k])\n",
    "print(\"correct mean, variance: \", Weibull_mean(lamb, k), Weibull_variance(lamb, k))\n",
    "print(\"fit mean, variance: \", Weibull_mean(*popt), Weibull_variance(*popt))\n",
    "print(\"mismatch: \", (Weibull_mean(lamb, k) - Weibull_mean(*popt))/Weibull_mean(lamb, k), \n",
    "      (Weibull_variance(lamb, k) - Weibull_variance(*popt))/Weibull_variance(lamb, k))"
   ]
  }
 ],
 "metadata": {
  "kernelspec": {
   "display_name": "Python 3",
   "language": "python",
   "name": "python3"
  },
  "language_info": {
   "codemirror_mode": {
    "name": "ipython",
    "version": 3
   },
   "file_extension": ".py",
   "mimetype": "text/x-python",
   "name": "python",
   "nbconvert_exporter": "python",
   "pygments_lexer": "ipython3",
   "version": "3.8.8"
  }
 },
 "nbformat": 4,
 "nbformat_minor": 5
}
