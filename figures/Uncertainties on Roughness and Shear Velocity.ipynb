{
 "cells": [
  {
   "cell_type": "code",
   "execution_count": 1,
   "id": "ec204df6",
   "metadata": {},
   "outputs": [],
   "source": [
    "%matplotlib inline\n",
    "import numpy as np\n",
    "import matplotlib.pyplot as plt\n",
    "from numpy.random import normal\n",
    "from scipy.optimize import curve_fit"
   ]
  },
  {
   "cell_type": "markdown",
   "id": "10e31a55",
   "metadata": {},
   "source": [
    "From _Numerical Recipes_, ch. 15.2:\n",
    "$$\n",
    "S = \\sum_{i=0}^{N-1} \\frac{1}{\\sigma_i^2}, \n",
    "S_x = \\sum_{i=0}^{N-1} \\frac{x_i}{\\sigma_i^2}, \n",
    "S_y = \\sum_{i=0}^{N-1} \\frac{y_i}{\\sigma_i^2}, \n",
    "S_{xx} = \\sum_{i=0}^{N-1} \\frac{x_i^2}{\\sigma_i^2}, \n",
    "S_{xy} = \\sum_{i=0}^{N-1} \\frac{x_i^2}{\\sigma_i^2}\n",
    "$$"
   ]
  },
  {
   "cell_type": "markdown",
   "id": "0eb8d725",
   "metadata": {},
   "source": [
    "$$\n",
    "\\Delta = S S_{xx} - \\left( S_x \\right)^2, \n",
    "a = \\frac{S_{xx} S_y - S_x S_{xy}}{\\Delta},\n",
    "b = \\frac{S S_{xy} - S_x S_y}{\\Delta}\n",
    "$$"
   ]
  },
  {
   "cell_type": "markdown",
   "id": "d1abba17",
   "metadata": {},
   "source": [
    "$$\n",
    "\\sigma_a^2 = \\frac{S_{xx}}{\\Delta},\n",
    "\\sigma_b^2 = \\frac{S}{\\Delta}\n",
    "$$"
   ]
  },
  {
   "cell_type": "markdown",
   "id": "8c7b07c0",
   "metadata": {},
   "source": [
    "The velocity profile is given by\n",
    "$$\n",
    "u(z) = \\frac{u_\\star}{\\kappa} \\ln \\left( \\frac{z}{z_\\star} \\right)\n",
    "$$\n",
    "with $z_\\star$ as the roughness scale (as opposed to the usual $z_0$)."
   ]
  },
  {
   "cell_type": "markdown",
   "id": "b29a3e1d",
   "metadata": {},
   "source": [
    "Re-casting as a linear fit:$y_i = m x_i + b$ with $x_i = \\ln \\left( z_i / z_0 \\right)$, $y_i = u(z_i)$, $m = u_\\star/\\kappa$, and $b = -\\dfrac{u_\\star}{\\kappa} \\ln \\left( \\dfrac{z_\\star}{z_0} \\right)$, where $z_0$ is the bottom anemometer height."
   ]
  },
  {
   "cell_type": "markdown",
   "id": "3e607b70",
   "metadata": {},
   "source": [
    "Assume logarithmic spacing, i.e. $\\ln\\left( z_i / z_0 \\right) = i\\ \\delta x$."
   ]
  },
  {
   "cell_type": "markdown",
   "id": "0328a6a3",
   "metadata": {},
   "source": [
    "$$\n",
    "S = \\dfrac{N}{\\sigma^2}, S_x = \\dfrac{\\delta x}{\\sigma^2} \\left( \\dfrac{(N-1) N}{2} \\right), S_{xx} = \\dfrac{\\delta x^2}{\\sigma^2} \\left( \\dfrac{\\left( N - 1 \\right) N \\left( 2N - 1 \\right)}{6} \\right), \\Delta = \\dfrac{\\delta x^2 N^2}{12 \\sigma^4} \\left( N^2 - 1 \\right).\n",
    "$$\n",
    "\n",
    "Notes from 2022 May 8 work out these expresssions."
   ]
  },
  {
   "cell_type": "markdown",
   "id": "127a7528",
   "metadata": {},
   "source": [
    "Square of the uncertainties for the slope and intercept:\n",
    "$$\n",
    "\\sigma_m^2 = \\left( \\dfrac{2N \\left( 2N - 1 \\right)}{N^2 \\left( N + 1 \\right)} \\right) \\sigma^2, \\sigma_b^2 = \\left( \\dfrac{12}{\\delta x^2 N \\left( N^2 - 1 \\right) } \\right) \\sigma^2\n",
    "$$"
   ]
  },
  {
   "cell_type": "code",
   "execution_count": 22,
   "id": "7035e4ea",
   "metadata": {},
   "outputs": [],
   "source": [
    "def calc_S(sigma):\n",
    "    return np.sum(1./sigma**2)\n",
    "\n",
    "def calc_Sx(x, sigma):\n",
    "    return np.sum(x/sigma**2)\n",
    "\n",
    "def calc_Sxx(x, sigma):\n",
    "    return np.sum(x**2/sigma**2)\n",
    "\n",
    "def calc_Sy(y, sigma):\n",
    "    return np.sum(y/sigma**2)\n",
    "\n",
    "def calc_Sxy(x, y, sigma):\n",
    "    return np.sum(x*y/sigma**2)\n",
    "\n",
    "def calc_Syy(y, sigma):\n",
    "    return np.sum(y**2/sigma**2)\n",
    "\n",
    "def calc_Delta(x, sigma):\n",
    "    S = calc_S(sigma)\n",
    "    Sxx = calc_Sxx(x, sigma)\n",
    "    Sx = calc_Sx(x, sigma)\n",
    "    \n",
    "    return S*Sxx - Sx**2\n",
    "\n",
    "def calc_intercept(x, y, sigma):\n",
    "    Sxx = calc_Sxx(x, sigma)\n",
    "    Sy = calc_Sy(y, sigma)\n",
    "    Sx = calc_Sx(x, sigma)\n",
    "    Sxy = calc_Sxy(x, y, sigma)\n",
    "    Delta = calc_Delta(x, sigma)\n",
    "    \n",
    "    return (Sxx*Sy - Sx*Sxy)/Delta\n",
    "\n",
    "def calc_slope(x, y, sigma):\n",
    "    S = calc_S(sigma)\n",
    "    Sxy = calc_Sxy(x, y, sigma)\n",
    "    Sx = calc_Sx(x, sigma)\n",
    "    Sy = calc_Sy(y, sigma)\n",
    "    Delta = calc_Delta(x, sigma)\n",
    "    \n",
    "    return (S*Sxy - Sx*Sy)/Delta\n",
    "\n",
    "def sigma_slope(x, sigma):\n",
    "    Sxx = calc_Sxx(x, sigma)\n",
    "    Delta = calc_Delta(x, sigma)\n",
    "    \n",
    "    return (Sxx/Delta)\n",
    "\n",
    "def sigma_intercept(x, sigma):\n",
    "    S = calc_S(sigma)\n",
    "    Delta = calc_Delta(x, sigma)\n",
    "    \n",
    "    return (S/Delta)"
   ]
  },
  {
   "cell_type": "code",
   "execution_count": 88,
   "id": "63a3017a",
   "metadata": {},
   "outputs": [
    {
     "name": "stdout",
     "output_type": "stream",
     "text": [
      "12.932546823096748 -7.316230567786676 -0.42857142857142855 -0.0035714285714285713\n",
      "(array([10.0060546 , 10.24272279]), array([3.63412352]), 2, array([1.34777468, 0.42837299]), 1.1102230246251565e-15)\n"
     ]
    }
   ],
   "source": [
    "def lin_fit(x, m, b):\n",
    "    return m*x + b\n",
    "\n",
    "def calc_unc_sq(sigma, delta_x, num_sensors):\n",
    "    \n",
    "    return 2*num_sensors*(2*num_sensors - 1)/(num_sensors**2*(num_sensors + 1))*sigma**2,\\\n",
    "        12./(delta_x**2*num_sensors*(num_sensors**2 - 1))*sigma**2\n",
    "\n",
    "# Let's test these expressions\n",
    "num_sensors = 5\n",
    "delta_x = 2.\n",
    "sigma = 1.\n",
    "slope = 10.\n",
    "intercept = 10.\n",
    "\n",
    "x = np.arange(num_sensors)*delta_x\n",
    "y = np.polyval([slope, intercept], x)\n",
    "noisy_y = y + normal(scale=sigma, size=num_sensors)\n",
    "\n",
    "print(calc_slope(x, noisy_y, sigma), calc_intercept(x, noisy_y, sigma), \n",
    "      sigma_slope(x, sigma), sigma_intercept(x, sigma))\n",
    "\n",
    "# plt.plot(x, y)\n",
    "# plt.plot(x, noisy_y, marker='o')\n",
    "\n",
    "# popt, pcov = curve_fit(lin_fit, x, noisy_y, sigma=sigma*np.ones_like(x), p0=[slope, intercept])\n",
    "# unc_sq = np.diag(pcov)\n",
    "# print(popt)\n",
    "# print(pcov)\n",
    "# print(slope, intercept)\n",
    "# print(calc_unc_sq(sigma, delta_x, num_sensors))\n",
    "\n",
    "print(np.polyfit(x, noisy_y, 1, w=1./sigma*np.ones_like(x), full=True))"
   ]
  },
  {
   "cell_type": "code",
   "execution_count": 6,
   "id": "dd4a9d7a",
   "metadata": {},
   "outputs": [
    {
     "name": "stdout",
     "output_type": "stream",
     "text": [
      "[3.5        2.17142857 2.10526316 3.25       2.34615385 2.29508197]\n"
     ]
    },
    {
     "data": {
      "image/png": "[encoded data removed]",
      "text/plain": [
       "<Figure size 432x288 with 1 Axes>"
      ]
     },
     "metadata": {
      "needs_background": "light"
     },
     "output_type": "display_data"
    }
   ],
   "source": [
    "# z values from Pelletier & Field (2016)\n",
    "zs = np.array([0.01, 0.035, 0.076, 0.16, 0.52, 1.22, 2.8]) # m\n",
    "plt.plot(zs, marker='o')\n",
    "plt.plot(np.log(zs), marker='o')\n",
    "\n",
    "# Roughly logarithmic spacing\n",
    "print(zs[1:]/zs[0:-1])"
   ]
  },
  {
   "cell_type": "code",
   "execution_count": null,
   "id": "d0d80f2c",
   "metadata": {},
   "outputs": [],
   "source": []
  }
 ],
 "metadata": {
  "kernelspec": {
   "display_name": "Python 3",
   "language": "python",
   "name": "python3"
  },
  "language_info": {
   "codemirror_mode": {
    "name": "ipython",
    "version": 3
   },
   "file_extension": ".py",
   "mimetype": "text/x-python",
   "name": "python",
   "nbconvert_exporter": "python",
   "pygments_lexer": "ipython3",
   "version": "3.8.8"
  }
 },
 "nbformat": 4,
 "nbformat_minor": 5
}
