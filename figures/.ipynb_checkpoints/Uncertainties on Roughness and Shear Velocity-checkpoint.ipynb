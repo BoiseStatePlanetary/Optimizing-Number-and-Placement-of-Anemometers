{
 "cells": [
  {
   "cell_type": "markdown",
   "id": "3098d231",
   "metadata": {},
   "source": [
    "From _Numerical Recipes_, ch. 15.2:\n",
    "$$\n",
    "S = \\sum_{i=0}^{N-1} \\frac{1}{\\sigma_i^2}\\\\\n",
    "S_x = \\sum_{i=0}^{N-1} \\frac{x_i}{\\sigma_i^2}\\\\\n",
    "S_y = \\sum_{i=0}^{N-1} \\frac{y_i}{\\sigma_i^2}\\\\\n",
    "S_{xx} = \\sum_{i=0}^{N-1} \\frac{x_i^2}{\\sigma_i^2}\\\\\n",
    "S_{xy} = \\sum_{i=0}^{N-1} \\frac{x_i^2}{\\sigma_i^2}\n",
    "$$"
   ]
  }
 ],
 "metadata": {
  "kernelspec": {
   "display_name": "Python 3",
   "language": "python",
   "name": "python3"
  },
  "language_info": {
   "codemirror_mode": {
    "name": "ipython",
    "version": 3
   },
   "file_extension": ".py",
   "mimetype": "text/x-python",
   "name": "python",
   "nbconvert_exporter": "python",
   "pygments_lexer": "ipython3",
   "version": "3.8.8"
  }
 },
 "nbformat": 4,
 "nbformat_minor": 5
}
