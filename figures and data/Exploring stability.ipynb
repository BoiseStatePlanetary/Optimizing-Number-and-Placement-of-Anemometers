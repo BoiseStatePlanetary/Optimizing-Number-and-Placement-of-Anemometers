{
 "cells": [
  {
   "cell_type": "markdown",
   "id": "ed931b01",
   "metadata": {},
   "source": [
    "In principle, the Law of the Wall only applies when the boundary layer is neutrally stable (Richardson number ~ 0)."
   ]
  },
  {
   "cell_type": "code",
   "execution_count": 93,
   "id": "4d747cea",
   "metadata": {},
   "outputs": [],
   "source": [
    "%matplotlib inline\n",
    "\n",
    "import matplotlib.pyplot as plt\n",
    "import numpy as np\n",
    "from numpy.random import choice, normal\n",
    "\n",
    "from scipy.signal import periodogram, correlate, convolve\n",
    "from scipy.optimize import curve_fit\n",
    "\n",
    "from glob import glob\n",
    "\n",
    "from datetime import datetime\n",
    "\n",
    "from local_utils import *\n",
    "\n",
    "aspect_ratio = 16./9 # On HD projectors nowadays, this is the aspect ratio.\n",
    "                     # so I make my figures using that ratio so they show up nicely in presentations.\n",
    "BoiseState_blue = \"#0033A0\"\n",
    "BoiseState_orange = \"#D64309\"\n",
    "\n",
    "# Von Karman's constant\n",
    "kappa = 0.4\n",
    "g = 9.81 # m/s^2\n",
    "heights = {\"48\": 62, \"49\": 85, \"50\": 108, \"51\": 154}\n",
    "\n",
    "def bulk_Richardson(Delta_z, Delta_T, T, u, cp=1000., g=9.81):\n",
    "    # MKS units!\n",
    "    # g in m/s^2\n",
    "    # cp in J/kg - https://www.ohio.edu/mechanical/thermo/property_tables/air/air_Cp_Cv.html\n",
    "    \n",
    "    return g*(Delta_T + g/cp)*Delta_z/(T*u*u)\n",
    "\n",
    "def calc_x(Ri):\n",
    "    return (1. - 16*Ri)**(1./4)\n",
    "\n",
    "def calc_phi(Ri):\n",
    "    return 1./calc_x(Ri)\n",
    "\n",
    "def calc_Psi(x):\n",
    "    return 2*np.log((1 + x)/2.) + np.log((1 + x**2)/2.) - 2*np.arctan(x) + np.pi/2.\n",
    "\n",
    "def calc_Ri(Rb, z_over_zstar=heights[\"48\"]/0.01):\n",
    "\n",
    "    x = calc_x(Rb)\n",
    "    phi = calc_phi(Rb)\n",
    "    Psi = calc_Psi(x)\n",
    "    \n",
    "    return Rb*((np.log(z_over_zstar) - Psi)/phi)**2"
   ]
  },
  {
   "cell_type": "code",
   "execution_count": 94,
   "id": "c7abf748",
   "metadata": {},
   "outputs": [
    {
     "name": "stdout",
     "output_type": "stream",
     "text": [
      "-0.007502600129211185\n"
     ]
    }
   ],
   "source": [
    "ls = glob(\"Field_Experiments/Drone_Experiments/Seal Beach*.csv\")\n",
    "\n",
    "data = {}\n",
    "for i in range(len(ls)):\n",
    "    key = ls[i].split(\"26368\")[1][0:2]\n",
    "    data[key] = np.genfromtxt(ls[i], skip_header=10, delimiter=',')\n",
    "    \n",
    "# Time\tTemp\tWet Bulb Temp.\tRel. Hum.\tBaro.\tAltitude\tStation P.\tWind Speed\tHeat Index\tDew Point\tDens. Alt.\tCrosswind\tHeadwind\tMag. Dir.\tTrue Dir.\tWind Chill    \n",
    "Delta_z = (heights[\"51\"] - heights[\"48\"])/100. # convert to m\n",
    "Delta_T = np.mean(data[\"51\"][:,1] - data[\"48\"][:,1])\n",
    "T = np.mean([data[\"51\"][:,1], data[\"48\"][:,1]])\n",
    "u = np.mean([data[\"51\"][:,7], data[\"48\"][:,7]])\n",
    "\n",
    "Rb = bulk_Richardson(Delta_z, Delta_T, T, u)\n",
    "print(bulk_Richardson(Delta_z, Delta_T, T, u))\n",
    "# -0.007502600129211185"
   ]
  },
  {
   "cell_type": "code",
   "execution_count": 96,
   "id": "def60bee",
   "metadata": {},
   "outputs": [
    {
     "name": "stdout",
     "output_type": "stream",
     "text": [
      "0.028947618903049976\n",
      "8.732304571033183\n",
      "0.0033150033496398045\n"
     ]
    }
   ],
   "source": [
    "# And then looking at equations from Greeley+ (1995)\n",
    "x = calc_x(Rb)\n",
    "phi = calc_phi(Rb)\n",
    "Psi = calc_Psi(x)\n",
    "print(Psi)\n",
    "# 0.028947618903049976 - very small compared to log(z/z_star)\n",
    "#\n",
    "# Compared to ln(z/z_star)\n",
    "zstar = 0.01 # See Experimenting with roughness scale measurements.ipynb\n",
    "print(np.log(heights[\"48\"]/zstar))\n",
    "# 8.732304571033183\n",
    "\n",
    "print(Psi/np.log(heights[\"48\"]/zstar))"
   ]
  }
 ],
 "metadata": {
  "kernelspec": {
   "display_name": "Drone_Wind_Profile",
   "language": "python",
   "name": "drone_wind_profile"
  },
  "language_info": {
   "codemirror_mode": {
    "name": "ipython",
    "version": 3
   },
   "file_extension": ".py",
   "mimetype": "text/x-python",
   "name": "python",
   "nbconvert_exporter": "python",
   "pygments_lexer": "ipython3",
   "version": "3.9.12"
  }
 },
 "nbformat": 4,
 "nbformat_minor": 5
}
