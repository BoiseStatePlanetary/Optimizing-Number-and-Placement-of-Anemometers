{
 "cells": [
  {
   "cell_type": "code",
   "execution_count": 3,
   "id": "f43ed5aa",
   "metadata": {},
   "outputs": [],
   "source": [
    "# Trying to make sense of red noise\n",
    "%matplotlib inline\n",
    "import numpy as np\n",
    "import matplotlib.pyplot as plt\n",
    "from numpy.random import normal, random\n",
    "from scipy.optimize import curve_fit\n",
    "\n",
    "from local_utils import *"
   ]
  },
  {
   "cell_type": "code",
   "execution_count": 61,
   "id": "eec55eff",
   "metadata": {},
   "outputs": [
    {
     "name": "stdout",
     "output_type": "stream",
     "text": [
      "[[0.66666667 0.66666667]\n",
      " [0.66666667 0.66666667]]\n",
      "C_00:  0.6666666666666666\n",
      "C_01:  1.0\n",
      "C_11:  1.5555555555555556\n"
     ]
    }
   ],
   "source": [
    "# Check that I understand the sample covariance\n",
    "x0 = np.array([0, 1, 2])\n",
    "x1 = np.array([0, 1, 3])\n",
    "mean_x = np.mean(x)\n",
    "print(np.cov(x, x, bias=True))\n",
    "\n",
    "# sjk = (1/n) ∑n\n",
    "# i=1(xji −  ̄xj )(xki −  ̄xk )\n",
    "\n",
    "# zij = (x x)\n",
    "\n",
    "bar_x0 = np.mean(x0)\n",
    "bar_x1 = np.mean(x1)\n",
    "\n",
    "print(\"C_00: \", np.dot((x0 - bar_x0), (x0 - bar_x0))/(len(x0)))\n",
    "print(\"C_01: \", np.dot((x0 - bar_x0), (x1 - bar_x1))/(len(x1)))\n",
    "print(\"C_11: \", np.dot((x1 - bar_x1), (x1 - bar_x1))/(len(x1)))"
   ]
  },
  {
   "cell_type": "code",
   "execution_count": 50,
   "id": "4d33f5d3",
   "metadata": {},
   "outputs": [
    {
     "name": "stdout",
     "output_type": "stream",
     "text": [
      "[[1.         0.98198051]\n",
      " [0.98198051 1.        ]]\n",
      "C_00:  1.3333333333333333\n"
     ]
    }
   ],
   "source": [
    "print(np.corrcoef(x0, x1))\n",
    "\n",
    "print(\"C_00: \", ((x0[0] - np.mean(x0))*(x1[0] - np.mean(x1))))"
   ]
  }
 ],
 "metadata": {
  "kernelspec": {
   "display_name": "Drone_Wind_Profile",
   "language": "python",
   "name": "drone_wind_profile"
  },
  "language_info": {
   "codemirror_mode": {
    "name": "ipython",
    "version": 3
   },
   "file_extension": ".py",
   "mimetype": "text/x-python",
   "name": "python",
   "nbconvert_exporter": "python",
   "pygments_lexer": "ipython3",
   "version": "3.9.12"
  }
 },
 "nbformat": 4,
 "nbformat_minor": 5
}
