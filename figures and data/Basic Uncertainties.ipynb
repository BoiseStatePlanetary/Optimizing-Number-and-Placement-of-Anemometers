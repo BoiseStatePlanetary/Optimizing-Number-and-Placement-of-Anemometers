{
 "cells": [
  {
   "cell_type": "markdown",
   "id": "53de69dc",
   "metadata": {},
   "source": [
    "A series of sanity checks"
   ]
  },
  {
   "cell_type": "code",
   "execution_count": null,
   "id": "550dacc5",
   "metadata": {},
   "outputs": [],
   "source": [
    "%matplotlib inline\n",
    "import numpy as np\n",
    "import matplotlib.pyplot as plt\n",
    "from numpy.random import normal, random\n",
    "from scipy.optimize import curve_fit\n",
    "\n",
    "BoiseState_blue = '#0033A0'\n",
    "BoiseState_orange = '#D64309'\n",
    "aspect_ratio = 16./9"
   ]
  },
  {
   "cell_type": "code",
   "execution_count": 127,
   "id": "d187abb0",
   "metadata": {},
   "outputs": [],
   "source": [
    "def calc_S(sigma):\n",
    "    return np.sum(1./sigma**2)\n",
    "\n",
    "def calc_Sx(x, sigma):\n",
    "    return np.sum(x/sigma**2)\n",
    "\n",
    "def calc_Sxx(x, sigma):\n",
    "    return np.sum(x**2/sigma**2)\n",
    "\n",
    "def calc_Sy(y, sigma):\n",
    "    return np.sum(y/sigma**2)\n",
    "\n",
    "def calc_Syy(y, sigma):\n",
    "    return np.sum(y**2/sigma**2)\n",
    "\n",
    "def calc_Sxy(x, y, sigma):\n",
    "    return np.sum(x*y/sigma**2)\n",
    "\n",
    "def calc_Delta(x, sigma):\n",
    "    S = calc_S(sigma)\n",
    "    Sxx = calc_Sxx(x, sigma)\n",
    "    Sx = calc_Sx(x, sigma)\n",
    "    \n",
    "    return S*Sxx - Sx**2\n",
    "\n",
    "def calc_slope(x, y, sigma):\n",
    "    S = calc_S(sigma)\n",
    "    Sx = calc_Sx(x, sigma)\n",
    "\n",
    "    t = (x - Sx/S)/sigma\n",
    "    Stt = calc_Sxx(t, np.ones_like(sigma))\n",
    "        \n",
    "    return np.sum(t*y/sigma)/Stt\n",
    "    \n",
    "def calc_intercept(x, y, sigma):\n",
    "    slope = calc_slope(x, y, sigma)\n",
    "    \n",
    "    S = calc_S(sigma)\n",
    "    Sx = calc_Sx(x, sigma)\n",
    "    Sy = calc_Sx(y, sigma)\n",
    "    \n",
    "    return (Sy - Sx*slope)/S\n",
    "    \n",
    "def calc_cov(x, sigma):\n",
    "    return -calc_Sx(x, sigma)/calc_Delta(x, sigma)\n",
    "\n",
    "def sigma_intercept(x, sigma):\n",
    "    Sxx = calc_Sxx(x, sigma)\n",
    "    Delta = calc_Delta(x, sigma)\n",
    "    \n",
    "    return np.sqrt(Sxx/Delta)\n",
    "\n",
    "def sigma_slope(x, sigma):\n",
    "    S = calc_S(sigma)\n",
    "    Delta = calc_Delta(x, sigma)\n",
    "    \n",
    "    return np.sqrt(S/Delta)\n",
    "\n",
    "def calc_analytic_Delta(delta_x, sigma, N):  \n",
    "    return delta_x**2/12/sigma**4*N**2*(N**2 - 1)\n",
    "\n",
    "def calc_analytic_S(sigma, N):\n",
    "    return N/sigma**2\n",
    "\n",
    "def calc_analytic_Sx(delta_x, sigma, N):\n",
    "    return 0.5*delta_x/sigma**2*(N - 1)*N\n",
    "\n",
    "def calc_analytic_Sxx(delta_x, sigma, N):\n",
    "    return delta_x**2/sigma**2*(N - 1)*N*(2*N - 1)/6\n",
    "\n",
    "def calc_analytic_Delta(delta_x, sigma, N):\n",
    "    return delta_x**2/sigma**4/12*N**2*(N**2 - 1)\n",
    "\n",
    "def calc_analytic_intercept(delta_x, sigma, N, x, y):\n",
    "    Sxx = calc_analytic_Sxx(delta_x, sigma[0], N)\n",
    "    Sy = calc_Sy(y, sigma)\n",
    "    Sx = calc_analytic_Sx(delta_x, sigma[0], N)\n",
    "    Sxy = calc_Sxy(x, y, sigma)\n",
    "    Delta = calc_analytic_Delta(delta_x, sigma[0], N)\n",
    "   \n",
    "    return (Sxx*Sy - Sx*Sxy)/Delta\n",
    "\n",
    "def calc_analytic_slope(delta_x, sigma, N, x, y):\n",
    "    S = calc_analytic_S(sigma[0], N)\n",
    "    Sxy = calc_Sxy(x, y, sigma)\n",
    "    Sx = calc_analytic_Sx(delta_x, sigma[0], N)\n",
    "    Sy = calc_Sy(y, sigma)\n",
    "    Delta = calc_analytic_Delta(delta_x, sigma[0], N)\n",
    "\n",
    "    return (S*Sxy - Sx*Sy)/Delta\n",
    "\n",
    "def calc_analytic_sigma_intercept(sigma, N):\n",
    "    return np.sqrt(2.*sigma**2*(2*N - 1)/N/(N + 1))\n",
    "\n",
    "def calc_analytic_sigma_slope(delta_x, sigma, N):\n",
    "    return np.sqrt(12*sigma**2/delta_x**2/N/(N**2 - 1))\n",
    "\n",
    "def lin_fit(x, m, b):\n",
    "    return m*x + b\n",
    "\n",
    "def calc_ustar(m, b, z0, kappa=0.4):\n",
    "    return kappa*m\n",
    "\n",
    "def calc_zstar(m, b, z0, kappa=0.4):\n",
    "    return z0*np.exp(-b/m)"
   ]
  },
  {
   "cell_type": "code",
   "execution_count": 128,
   "id": "0787bc13",
   "metadata": {},
   "outputs": [
    {
     "name": "stdout",
     "output_type": "stream",
     "text": [
      "5.0 5\n",
      "1.3862943611198904 1.3862943611198904\n",
      "14.862943611198906 14.862943611198906\n",
      "2.882718083509208 2.882718083509208\n",
      "316.99769557331865 316.99769557331865\n",
      "30.21347519621197 30.21347519621197\n",
      "24.022650695910073 24.022650695910073\n",
      "9.979987645927906\n"
     ]
    }
   ],
   "source": [
    "# With sigma = 1, Sx/n should be the average value of x.\n",
    "print(calc_S(np.ones_like(x)), len(x))\n",
    "print(calc_Sx(x, 1.)/len(x), np.mean(x))\n",
    "print(calc_Sy(y, 1.)/len(y), np.mean(y))\n",
    "print(calc_Sxx(x, 1.)/len(x), np.mean(x**2))\n",
    "print(calc_Syy(y, 1.)/len(y), np.mean(y**2))\n",
    "print(calc_Sxy(x, y, 1.)/len(x), np.mean(x*y))\n",
    "print(calc_Delta(x, np.ones_like(x)), calc_S(np.ones_like(x))*calc_Sxx(x, 1.) - calc_Sx(x, 1.)**2)\n",
    "print(calc_slope(x, noisy_y, np.ones_like(x)))"
   ]
  },
  {
   "cell_type": "code",
   "execution_count": 172,
   "id": "44ad841d",
   "metadata": {},
   "outputs": [
    {
     "data": {
      "text/plain": [
       "<matplotlib.collections.PolyCollection at 0x7fa9e9f0aaf0>"
      ]
     },
     "execution_count": 172,
     "metadata": {},
     "output_type": "execute_result"
    },
    {
     "data": {
      "image/png": "[encoded data removed]",
      "text/plain": [
       "<Figure size 432x288 with 1 Axes>"
      ]
     },
     "metadata": {
      "needs_background": "light"
     },
     "output_type": "display_data"
    }
   ],
   "source": [
    "# Let's test these expressions\n",
    "num_sensors = 5\n",
    "base = 2.\n",
    "delta_x = np.log(base)\n",
    "sigma = 0.1*np.ones(num_sensors)\n",
    "slope = 10.\n",
    "intercept = 1.\n",
    "\n",
    "num_tries = 1000\n",
    "\n",
    "z = base**(np.linspace(0, num_sensors - 1, num_sensors))\n",
    "x = np.log(z/np.min(z))\n",
    "y = np.polyval([slope, intercept], x)\n",
    "\n",
    "slopes = np.zeros(num_tries)\n",
    "sigma_slopes = np.zeros(num_tries)\n",
    "intercepts = np.zeros(num_tries)\n",
    "sigma_intercepts = np.zeros(num_tries)\n",
    "\n",
    "for i in range(num_tries):\n",
    "    noisy_y = y + normal(scale=sigma[0], size=num_sensors)\n",
    "\n",
    "    popt, pcov = np.polyfit(x, noisy_y, 1, w=1/sigma, cov=True)\n",
    "    unc = np.sqrt(np.diag(pcov))\n",
    "    \n",
    "    slopes[i] = popt[0]\n",
    "    sigma_slopes[i] = unc[0]\n",
    "    intercepts[i] = popt[1]\n",
    "    sigma_intercepts[i] = unc[1]\n",
    "    \n",
    "plt.scatter(slopes, intercepts, marker='.')\n",
    "plt.axvline(slope)\n",
    "plt.axhline(intercept)\n",
    "\n",
    "analytic_slope = calc_analytic_slope(delta_x, sigma, num_sensors, x, y)\n",
    "analytic_intercept = calc_analytic_intercept(delta_x, sigma, num_sensors, x, noisy_y)\n",
    "\n",
    "plt.axvline(analytic_slope, color='k')\n",
    "plt.axhline(analytic_intercept, color='k')\n",
    "\n",
    "numerical_slope = calc_slope(x, noisy_y, sigma)\n",
    "numerical_slope_sigma = sigma_slope(x, sigma)\n",
    "numerical_intercept = calc_intercept(x, noisy_y, sigma)\n",
    "numerical_intercept_sigma = sigma_intercept(x, sigma)\n",
    "\n",
    "# plt.axvline(numerical_slope - numerical_slope_sigma, color='grey', ls='--')\n",
    "# plt.axvline(numerical_slope, color='k', ls='--')\n",
    "# plt.axvline(numerical_slope + numerical_slope_sigma, color='grey', ls='--')\n",
    "# plt.axhline(numerical_intercept - numerical_intercept_sigma, color='grey', ls='--')\n",
    "# plt.axhline(numerical_intercept, color='k', ls='--')\n",
    "# plt.axhline(numerical_intercept + numerical_intercept_sigma, color='grey', ls='--')\n",
    "\n",
    "plt.fill_between([numerical_slope - numerical_slope_sigma, numerical_slope + numerical_slope_sigma], \n",
    "                 [numerical_intercept - numerical_intercept_sigma, numerical_intercept - numerical_intercept_sigma],\n",
    "                 [numerical_intercept + numerical_intercept_sigma, numerical_intercept + numerical_intercept_sigma],\n",
    "                alpha=0.5)"
   ]
  },
  {
   "cell_type": "code",
   "execution_count": 163,
   "id": "a0dd6dbd",
   "metadata": {},
   "outputs": [
    {
     "data": {
      "text/plain": [
       "<matplotlib.lines.Line2D at 0x7fa9dacb64f0>"
      ]
     },
     "execution_count": 163,
     "metadata": {},
     "output_type": "execute_result"
    },
    {
     "data": {
      "image/png": "[encoded data removed]",
      "text/plain": [
       "<Figure size 432x288 with 1 Axes>"
      ]
     },
     "metadata": {
      "needs_background": "light"
     },
     "output_type": "display_data"
    }
   ],
   "source": [
    "ustars = calc_ustar(slopes, intercepts, np.min(z))\n",
    "zstars = calc_zstar(slopes, intercepts, np.min(z))\n",
    "\n",
    "plt.scatter(ustars, zstars, marker='.')\n",
    "plt.axvline(calc_ustar(slope, intercept, np.min(z)))\n",
    "plt.axhline(calc_zstar(slope, intercept, np.min(z)))"
   ]
  }
 ],
 "metadata": {
  "kernelspec": {
   "display_name": "Python 3 (ipykernel)",
   "language": "python",
   "name": "python3"
  },
  "language_info": {
   "codemirror_mode": {
    "name": "ipython",
    "version": 3
   },
   "file_extension": ".py",
   "mimetype": "text/x-python",
   "name": "python",
   "nbconvert_exporter": "python",
   "pygments_lexer": "ipython3",
   "version": "3.8.8"
  }
 },
 "nbformat": 4,
 "nbformat_minor": 5
}
