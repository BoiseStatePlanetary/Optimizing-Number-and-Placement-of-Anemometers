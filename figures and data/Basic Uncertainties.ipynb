{
 "cells": [
  {
   "cell_type": "markdown",
   "id": "53de69dc",
   "metadata": {},
   "source": [
    "A series of sanity checks"
   ]
  },
  {
   "cell_type": "code",
   "execution_count": 1,
   "id": "550dacc5",
   "metadata": {},
   "outputs": [],
   "source": [
    "%matplotlib inline\n",
    "import numpy as np\n",
    "import matplotlib.pyplot as plt\n",
    "from numpy.random import normal, random\n",
    "from scipy.optimize import curve_fit\n",
    "\n",
    "from local_utils import *\n",
    "\n",
    "BoiseState_blue = '#0033A0'\n",
    "BoiseState_orange = '#D64309'\n",
    "aspect_ratio = 16./9"
   ]
  },
  {
   "cell_type": "code",
   "execution_count": 3,
   "id": "0787bc13",
   "metadata": {},
   "outputs": [
    {
     "ename": "NameError",
     "evalue": "name 'sigma' is not defined",
     "output_type": "error",
     "traceback": [
      "\u001b[0;31m---------------------------------------------------------------------------\u001b[0m",
      "\u001b[0;31mNameError\u001b[0m                                 Traceback (most recent call last)",
      "Input \u001b[0;32mIn [3]\u001b[0m, in \u001b[0;36m<cell line: 2>\u001b[0;34m()\u001b[0m\n\u001b[1;32m      1\u001b[0m \u001b[38;5;66;03m# With sigma = 1, Sx/n should be the average value of x.\u001b[39;00m\n\u001b[0;32m----> 2\u001b[0m \u001b[38;5;28mprint\u001b[39m(calc_S(\u001b[43msigma\u001b[49m), calc_analytic_S(sigma[\u001b[38;5;241m0\u001b[39m], num_sensors))\n\u001b[1;32m      3\u001b[0m \u001b[38;5;28mprint\u001b[39m(calc_Sx(x, sigma), calc_analytic_Sx(delta_x, sigma[\u001b[38;5;241m0\u001b[39m], num_sensors))\n\u001b[1;32m      4\u001b[0m \u001b[38;5;66;03m# print(calc_Sy(y, sigma)/len(y), np.mean(y)) # There is no analytic Sy!\u001b[39;00m\n",
      "\u001b[0;31mNameError\u001b[0m: name 'sigma' is not defined"
     ]
    }
   ],
   "source": [
    "# With sigma = 1, Sx/n should be the average value of x.\n",
    "print(calc_S(sigma), calc_analytic_S(sigma[0], num_sensors))\n",
    "print(calc_Sx(x, sigma), calc_analytic_Sx(delta_x, sigma[0], num_sensors))\n",
    "# print(calc_Sy(y, sigma)/len(y), np.mean(y)) # There is no analytic Sy!\n",
    "print(calc_Sxx(x, sigma), calc_analytic_Sxx(delta_x, sigma[0], num_sensors))\n",
    "# print(calc_Syy(y, 1.)/len(y), np.mean(y**2))\n",
    "# print(calc_Sxy(x, y, 1.)/len(x), np.mean(x*y))\n",
    "print(calc_Delta(x, sigma), calc_analytic_Delta(delta_x, sigma[0], num_sensors))"
   ]
  },
  {
   "cell_type": "code",
   "execution_count": 2,
   "id": "807a2ceb",
   "metadata": {},
   "outputs": [
    {
     "name": "stdout",
     "output_type": "stream",
     "text": [
      "popt:  [145.30353442 494.0696094 ]\n",
      "unc:  [4.07388751 8.80475479]\n",
      "analytic_sigma_slope, analytic_sigma_intercept:  7.742314037350946 16.733200530681508\n",
      "redchisq0:  0.5537407641606453\n",
      "redchisq_plus:  3.3473598361581316\n",
      "redchisq_minus:  3.3473598361581427\n",
      "redchisq_analytic_plus:  10.643729628289396\n",
      "redchisq_analytic_minus:  10.643729628289394\n"
     ]
    }
   ],
   "source": [
    "num_points = 4\n",
    "# z = np.array([1., 2., 4., 8.])\n",
    "z = 2.**(np.linspace(0, 5, num_points))\n",
    "x = np.log(z/np.min(z))\n",
    "# x = np.linspace(np.min(z), np.max(z), 100)\n",
    "delta_x = np.log(z[1]/z[0])\n",
    "slope = 148.\n",
    "intercept = 480.\n",
    "y = slope*x + intercept\n",
    "sigma = 20.\n",
    "\n",
    "analytic_sigma_slope = sigma_slope(x, sigma*np.ones_like(x))    \n",
    "analytic_sigma_intercept = sigma_intercept(x, sigma*np.ones_like(x))\n",
    "analytic_unc = np.array([analytic_sigma_slope, analytic_sigma_intercept])\n",
    "\n",
    "noisy_y = (y + normal(scale=sigma, size=len(x)))\n",
    "    \n",
    "popt, pcov = np.polyfit(x, noisy_y, 1, w=1./sigma*np.ones_like(x), cov=True)\n",
    "unc = np.sqrt(np.diag(pcov))\n",
    "print(\"popt: \", popt)\n",
    "print(\"unc: \", unc)\n",
    "print(\"analytic_sigma_slope, analytic_sigma_intercept: \", analytic_sigma_slope, analytic_sigma_intercept)\n",
    "\n",
    "redchisq0 = redchisqg(noisy_y, np.polyval(popt, x), sd=sigma)\n",
    "print(\"redchisq0: \", redchisq0)\n",
    "\n",
    "redchisq_plus = redchisqg(noisy_y, np.polyval(popt + unc, x), sd=sigma)\n",
    "print(\"redchisq_plus: \", redchisq_plus)\n",
    "redchisq_minus = redchisqg(noisy_y, np.polyval(popt - unc, x), sd=sigma)\n",
    "print(\"redchisq_minus: \", redchisq_minus)\n",
    "\n",
    "redchisq_analytic_plus = redchisqg(noisy_y, np.polyval(popt + analytic_unc, x), sd=sigma)\n",
    "print(\"redchisq_analytic_plus: \", redchisq_analytic_plus)\n",
    "redchisq_analytic_minus = redchisqg(noisy_y, np.polyval(popt - analytic_unc, x), sd=sigma)\n",
    "print(\"redchisq_analytic_minus: \", redchisq_analytic_minus)\n",
    "\n",
    "# num_points = 4\n",
    "# unc:  [3.47552737 7.51153933]\n",
    "# analytic_sigma_slope, analytic_sigma_intercept:  7.742314037350946 16.733200530681508\n",
    "# redchisq0:  0.40302302181207844\n",
    "# redchisq_plus:  0.9113352470709994\n",
    "# redchisq_minus:  0.91133524707098\n",
    "# redchisq_analytic_plus:  2.9255202378442924\n",
    "# redchisq_analytic_minus:  2.9255202378442298\n",
    "\n"
   ]
  },
  {
   "cell_type": "code",
   "execution_count": 3,
   "id": "8ea048d4",
   "metadata": {},
   "outputs": [
    {
     "name": "stdout",
     "output_type": "stream",
     "text": [
      "[0.15215327 0.30452629]\n",
      "chisq0:  928.0754862843596\n",
      "np.abs(delta_fit_slope[srt_ind][0:2] - popt[0]) - unc[0]:  [-0.26893559 -0.26893559]\n",
      "np.abs(delta_fit_slope[srt_ind][0:2] - popt[0]) - analytic_unc[0]:  [-0.29545933 -0.29545933]\n"
     ]
    },
    {
     "data": {
      "text/plain": [
       "(147.84771468690172, 148.4792401393671)"
      ]
     },
     "execution_count": 3,
     "metadata": {},
     "output_type": "execute_result"
    },
    {
     "data": {
      "image/png": "[encoded data removed]",
      "text/plain": [
       "<Figure size 432x288 with 1 Axes>"
      ]
     },
     "metadata": {
      "needs_background": "light"
     },
     "output_type": "display_data"
    }
   ],
   "source": [
    "num_points = 1000\n",
    "# z = np.array([1., 2., 4., 8.])\n",
    "z = 2.**(np.linspace(0, 5, num_points))\n",
    "x = np.log(z/np.min(z))\n",
    "# x = np.linspace(np.min(z), np.max(z), 100)\n",
    "delta_x = np.log(z[1]/z[0])\n",
    "slope = 148.\n",
    "intercept = 480.\n",
    "y = slope*x + intercept\n",
    "sigma = 5.\n",
    "\n",
    "analytic_sigma_slope = sigma_slope(x, sigma*np.ones_like(x))    \n",
    "analytic_sigma_intercept = sigma_intercept(x, sigma*np.ones_like(x))\n",
    "analytic_unc = np.array([analytic_sigma_slope, analytic_sigma_intercept])\n",
    "\n",
    "noisy_y = (y + normal(scale=sigma, size=len(x)))\n",
    "    \n",
    "popt, pcov = np.polyfit(x, noisy_y, 1, w=1./sigma*np.ones_like(x), cov=True)\n",
    "unc = np.sqrt(np.diag(pcov))\n",
    "print(unc)\n",
    "chisq0 = chisqg(noisy_y, np.polyval([slope, intercept], x), sd=sigma)\n",
    "print(\"chisq0: \", chisq0)\n",
    "\n",
    "# Rescale uncertainties because why not?\n",
    "# unc *= np.sqrt(chisq0/(len(x) - 2))\n",
    "# analytic_unc *= np.sqrt(chisq0/(len(x) - 2))\n",
    "\n",
    "delta_fit_slope = np.linspace(popt[0]*0.95, popt[0]*1.05, 1000)\n",
    "delta_chisq = np.zeros_like(delta_fit_slope)\n",
    "for i in range(len(delta_fit_slope)):\n",
    "    delta_chisq[i] = chisqg(noisy_y, np.polyval([delta_fit_slope[i], popt[1]], x), sd=sigma) - chisq0\n",
    "    \n",
    "srt_ind = np.argsort(np.abs(delta_chisq - 1.))\n",
    "print(\"np.abs(delta_fit_slope[srt_ind][0:2] - popt[0]) - unc[0]: \", \n",
    "      (np.abs(delta_fit_slope[srt_ind][0:2] - popt[0]) - unc[0])/unc[0])\n",
    "print(\"np.abs(delta_fit_slope[srt_ind][0:2] - popt[0]) - analytic_unc[0]: \", \n",
    "      (np.abs(delta_fit_slope[srt_ind][0:2] - popt[0]) - analytic_unc[0])/analytic_unc[0])\n",
    "\n",
    "plt.plot(delta_fit_slope, delta_chisq)\n",
    "plt.axvline(popt[0] + unc[0])\n",
    "plt.axvline(popt[0] - unc[0])\n",
    "\n",
    "plt.axvline(popt[0] + analytic_unc[0], ls='--')\n",
    "plt.axvline(popt[0] - analytic_unc[0], ls='--')\n",
    "\n",
    "plt.axhline(1)\n",
    "\n",
    "plt.ylim([0, 5])\n",
    "plt.xlim([popt[0] - 2*np.max([unc[0], analytic_unc[0]]), popt[0] + 2*np.max([unc[0], analytic_unc[0]])])"
   ]
  },
  {
   "cell_type": "code",
   "execution_count": 4,
   "id": "60648de6",
   "metadata": {},
   "outputs": [
    {
     "name": "stdout",
     "output_type": "stream",
     "text": [
      "15.88559772828654\n",
      "15.60780285068667\n",
      "0.8107955445624249\n",
      "0.8\n"
     ]
    },
    {
     "data": {
      "image/png": "[encoded data removed]",
      "text/plain": [
       "<Figure size 432x288 with 1 Axes>"
      ]
     },
     "metadata": {
      "needs_background": "light"
     },
     "output_type": "display_data"
    }
   ],
   "source": [
    "# Everything checks out - I am, in principle, calculating the uncertainties correctly.\n",
    "\n",
    "def calc_sigma_zstar(z0, slope, intercept, sigma_slope, sigma_intercept, kappa=0.4):\n",
    "    zstar = calc_zstar_from_slope_and_intercept(z0, slope, intercept)\n",
    "    return zstar*intercept/slope*np.sqrt((sigma_slope/slope)**2 + (sigma_intercept/intercept)**2)\n",
    "\n",
    "def calc_sigma_ustar(sigma_slope, kappa=0.4):\n",
    "    return kappa*sigma_slope\n",
    "\n",
    "# Just checking whether I have any idea what I'm doing\n",
    "num_points = 1000\n",
    "\n",
    "mean_slope = 10\n",
    "std_slope = 2\n",
    "\n",
    "mean_intercept = 10\n",
    "std_intercept = 2\n",
    "\n",
    "z0 = 150. # cm\n",
    "\n",
    "ms = normal(scale=std_slope, size=num_points) + mean_slope\n",
    "bs = normal(scale=std_intercept, size=num_points) + mean_intercept\n",
    "\n",
    "ustars = calc_ustar_from_slope(ms)\n",
    "zstars = calc_zstar_from_slope_and_intercept(z0, ms, bs)\n",
    "\n",
    "plt.scatter(ustars, zstars)\n",
    "\n",
    "print(np.std(zstars))\n",
    "print(calc_sigma_zstar(z0, mean_slope, mean_intercept, std_slope, std_intercept))\n",
    "\n",
    "print(np.std(ustars))\n",
    "print(calc_sigma_ustar(std_slope))"
   ]
  },
  {
   "cell_type": "code",
   "execution_count": 8,
   "id": "ce9f6024",
   "metadata": {},
   "outputs": [
    {
     "name": "stdout",
     "output_type": "stream",
     "text": [
      "[147.62979067 480.99589967]\n",
      "[1.98562836 2.57488271]\n",
      "[147.6297906663161, 480.99589967060473]\n",
      "[1.985628364019813, 2.5748827108481067]\n"
     ]
    }
   ],
   "source": [
    "# Now checking whether my analytic expressions (now corrected and corrected and corrected) match up\n",
    "num_sensors = 4\n",
    "base = 2.\n",
    "delta_x = np.log(base)\n",
    "z = 2.**np.arange(0, num_sensors, 1)\n",
    "x = np.log(z/np.min(z))\n",
    "\n",
    "slope = 148.\n",
    "intercept = 480.\n",
    "y = slope*x + intercept\n",
    "sigma = (np.max(y) - np.min(y))/100.\n",
    "\n",
    "num_tries = 1\n",
    "\n",
    "for i in range(num_tries):\n",
    "    noisy_y = (y + normal(scale=sigma, size=len(x)))\n",
    "#     noisy_y = y\n",
    "    \n",
    "    popt, pcov = np.polyfit(x, noisy_y, 1, w=1/sigma*np.ones_like(x), cov='unscaled')\n",
    "    unc = np.sqrt(np.diag(pcov))\n",
    "    \n",
    "    # Rescale uncertainties because why not?\n",
    "    mod = np.polyval(popt, x)\n",
    "    rescaled_sigma = rescale_sigma(noisy_y, mod, sigma)\n",
    "    \n",
    "    # Analytic solutions\n",
    "    analytic_slope = calc_analytic_slope(delta_x, sigma*np.ones_like(x), len(x), x, noisy_y)\n",
    "    analytic_intercept = calc_analytic_intercept(delta_x, sigma*np.ones_like(x), len(x), x, noisy_y)\n",
    "    analytic_sigma_slope = calc_analytic_sigma_slope(delta_x, sigma, num_sensors)\n",
    "    analytic_sigma_intercept = calc_analytic_sigma_intercept(sigma, num_sensors)\n",
    "    \n",
    "    # Numerical solutions\n",
    "#     analytic_slope = calc_slope(x, noisy_y, rescaled_sigma*np.ones_like(x))\n",
    "#     analytic_intercept = calc_intercept(x, noisy_y, rescaled_sigma*np.ones_like(x))\n",
    "#     analytic_sigma_slope = sigma_slope(x, rescaled_sigma*np.ones_like(x))    \n",
    "#     analytic_sigma_intercept = sigma_intercept(x, rescaled_sigma*np.ones_like(x))\n",
    "    \n",
    "    print(popt)\n",
    "    print(unc)\n",
    "    print([analytic_slope, analytic_intercept])\n",
    "    print([analytic_sigma_slope, analytic_sigma_intercept])\n",
    "  \n",
    "# num_sensors = 100\n",
    "# [148.22078701 488.59145232]\n",
    "# [ 0.53294481 21.16782374]\n",
    "# [148.22078701230407, 488.5914523194569]\n",
    "# [0.5075855485619255, 20.160589191732655]\n",
    "\n",
    "# num_sensors = 4\n",
    "# [147.75614274 478.9749204 ]\n",
    "# [2.50356034 3.24651599]\n",
    "# [147.7561427381081, 478.9749203971347]\n",
    "# [1.985628364019813, 2.5748827108481067]\n",
    "\n",
    "# num_sensors = 4, noisy_y = y \n",
    "# [148. 480.]\n",
    "# [2.75644840e-14 3.57445101e-14]\n",
    "# [148.00000000000009, 480.0000000000001]\n",
    "# [1.985628364019813, 2.5748827108481067]\n",
    "\n",
    "# num_sensors = 100, noisy_y = y \n",
    "# [148. 480.]\n",
    "# [5.62935249e-15 2.23590020e-13]\n",
    "# [148.00000000000003, 480.0000000000023]\n",
    "# [0.5075855485619255, 20.160589191732655]"
   ]
  },
  {
   "cell_type": "code",
   "execution_count": 37,
   "id": "8eac21a5",
   "metadata": {},
   "outputs": [
    {
     "name": "stdout",
     "output_type": "stream",
     "text": [
      "sigma/ustar:  1.0\n",
      "0.5265005683557408\n"
     ]
    }
   ],
   "source": [
    "# Now checking whether I can reproduce the uncertainties for ustar and zstar\n",
    "num_sensors = 4\n",
    "base = 2.\n",
    "delta_x = np.log(base)\n",
    "z = 2.**np.arange(0, num_sensors, 1)\n",
    "x = np.log(z/np.min(z))\n",
    "kappa = 0.4\n",
    "\n",
    "slope = 148.\n",
    "intercept = 480.\n",
    "ustar = calc_ustar_from_slope(slope)\n",
    "zstar = calc_zstar_from_slope_and_intercept(np.min(z), slope, intercept)\n",
    "\n",
    "y = slope*x + intercept\n",
    "sigma = ustar\n",
    "\n",
    "num_tries = 1\n",
    "\n",
    "for i in range(num_tries):\n",
    "    noisy_y = (y + normal(scale=sigma, size=len(x)))\n",
    "    \n",
    "    lin_popt, lin_pcov = np.polyfit(x, noisy_y, 1, w=1/sigma*np.ones_like(x), cov='unscaled')\n",
    "    lin_unc = np.sqrt(np.diag(lin_pcov))\n",
    "    \n",
    "    # Analytic solutions\n",
    "#     rescaled_sigma = rescale_sigma(noisy_y, np.polyval(lin_popt, x), sigma)\n",
    "    rescaled_sigma = sigma\n",
    "    \n",
    "    analytic_slope = calc_analytic_slope(delta_x, rescaled_sigma*np.ones_like(x), len(x), x, noisy_y)\n",
    "    analytic_intercept = calc_analytic_intercept(delta_x, rescaled_sigma*np.ones_like(x), len(x), x, noisy_y)\n",
    "    analytic_sigma_slope = calc_analytic_sigma_slope(delta_x, rescaled_sigma, num_sensors)\n",
    "    analytic_sigma_intercept = calc_analytic_sigma_intercept(rescaled_sigma, num_sensors)\n",
    "    analytic_sigma_intercept_slope = calc_sigma_intercept_slope(delta_x, rescaled_sigma, num_sensors)\n",
    "    \n",
    "    analytic_ustar = calc_ustar_from_slope(analytic_slope)\n",
    "    analytic_zstar = calc_zstar_from_slope_and_intercept(np.min(z), analytic_slope, analytic_intercept)\n",
    "    \n",
    "    # Calculating ustar/zstar uncertainties numerically\n",
    "    profile_popt, profile_pcov = curve_fit(wind_profile, z, noisy_y, p0=[ustar, zstar], \n",
    "                                           sigma=sigma*np.ones_like(x))\n",
    "    profile_unc = np.sqrt(np.diag(profile_pcov))\n",
    "    print(profile_popt)\n",
    "    print(profile_unc)\n",
    "\n",
    "    print(analytic_ustar, analytic_zstar)\n",
    "    analytic_sigma_ustar = kappa*analytic_sigma_slope\n",
    "    analytic_sigma_zstar = zstar*(intercept/slope)*np.sqrt((analytic_sigma_slope/analytic_slope)**2 +\\\n",
    "                                                           (analytic_sigma_intercept/analytic_intercept)**2 +\\\n",
    "                                                           (2*analytic_sigma_intercept_slope/intercept/slope))\n",
    "    print(analytic_sigma_ustar, analytic_sigma_zstar)\n",
    "  \n",
    "# The answer is, \"Yes, I can reproduce the uncertainties, assuming I rescale sigma.\"\n",
    "# num_sensors = 4\n",
    "# [5.85062481e+01 3.72627181e-02]\n",
    "# [0.467326   0.00130911]\n",
    "# 58.506247928137384 0.037262717709311034\n",
    "# 0.4673260647755731 0.001349832094556615\n",
    "\n",
    "# num_sensors = 4, but no rescaling sigma\n",
    "# [5.97503932e+01 4.13807631e-02]\n",
    "# [0.54532977 0.00162217]\n",
    "# 59.75039326588868 0.041380763233167916\n",
    "# 0.7942513456079252 0.002269760275483198\n",
    "\n",
    "# num_sensors = 100, but no rescaling sigma\n",
    "# [5.91154616e+01 3.80699978e-02]\n",
    "# [0.21648215 0.00593535]\n",
    "# 59.11546165581359 0.03806999875377274\n",
    "# 0.2030342194247702 0.005665941499986873\n",
    "\n",
    "# num_sensors = 100 and rescaling sigma\n",
    "# [5.92326882e+01 4.18291296e-02]\n",
    "# [0.18371017 0.00551243]\n",
    "# 59.232688151814585 0.041829126698395634\n",
    "# 0.18371018491359614 0.005250044619868289"
   ]
  },
  {
   "cell_type": "code",
   "execution_count": 53,
   "id": "5b6f0d45",
   "metadata": {},
   "outputs": [
    {
     "name": "stdout",
     "output_type": "stream",
     "text": [
      "6664.266917591206\n",
      "6664.266917591205\n"
     ]
    }
   ],
   "source": [
    "# Now checking whether I can reproduce the uncertainties for ustar and zstar\n",
    "num_sensors = 4\n",
    "base = 2.\n",
    "delta_x = np.log(base)\n",
    "z = 2.**np.arange(0, num_sensors, 1)\n",
    "x = np.log(z/np.min(z))\n",
    "kappa = 0.4\n",
    "\n",
    "slope = 148.\n",
    "intercept = 480.\n",
    "ustar = calc_ustar_from_slope(slope)\n",
    "zstar = calc_zstar_from_slope_and_intercept(np.min(z), slope, intercept)\n",
    "\n",
    "y = slope*x + intercept\n",
    "sigma = ustar\n",
    "\n",
    "num_tries = 1\n",
    "\n",
    "for i in range(num_tries):\n",
    "    noisy_y = (y + normal(scale=sigma, size=len(x)))\n",
    "    \n",
    "    lin_popt, lin_pcov = np.polyfit(x, noisy_y, 1, w=1/sigma*np.ones_like(x), cov='unscaled')\n",
    "    lin_unc = np.sqrt(np.diag(lin_pcov))\n",
    "    \n",
    "    # Analytic solutions\n",
    "#     rescaled_sigma = rescale_sigma(noisy_y, np.polyval(lin_popt, x), sigma)\n",
    "    rescaled_sigma = sigma\n",
    "    \n",
    "    analytic_slope = calc_analytic_slope(delta_x, rescaled_sigma*np.ones_like(x), len(x), x, noisy_y)\n",
    "    analytic_intercept = calc_analytic_intercept(delta_x, rescaled_sigma*np.ones_like(x), len(x), x, noisy_y)\n",
    "    analytic_sigma_slope = calc_analytic_sigma_slope(delta_x, rescaled_sigma, num_sensors)\n",
    "    analytic_sigma_intercept = calc_analytic_sigma_intercept(rescaled_sigma, num_sensors)\n",
    "    analytic_sigma_intercept_slope = calc_sigma_intercept_slope(delta_x, rescaled_sigma, num_sensors)\n",
    "    \n",
    "    analytic_ustar = calc_ustar_from_slope(analytic_slope)\n",
    "    analytic_zstar = calc_zstar_from_slope_and_intercept(np.min(z), analytic_slope, analytic_intercept)\n",
    "    \n",
    "    # Calculating ustar/zstar uncertainties numerically\n",
    "    profile_popt, profile_pcov = curve_fit(wind_profile, z, noisy_y, p0=[ustar, zstar], \n",
    "                                           sigma=sigma*np.ones_like(x))\n",
    "    profile_unc = np.sqrt(np.diag(profile_pcov))\n",
    "\n",
    "    analytic_sigma_ustar = kappa*analytic_sigma_slope\n",
    "    analytic_sigma_zstar = zstar*(intercept/slope)*np.sqrt((analytic_sigma_slope/analytic_slope)**2 +\\\n",
    "                                                           (analytic_sigma_intercept/analytic_intercept)**2 +\\\n",
    "                                                           (2*analytic_sigma_intercept_slope/intercept/slope))\n",
    "    \n",
    "#     print((analytic_intercept/analytic_slope)**2*analytic_sigma_slope**2)\n",
    "#     print(np.log(np.min(z)/analytic_zstar)**2*(12/num_sensors/(num_sensors**2 - 1)/delta_x**2)*sigma**2)\n",
    "#     7015.487972735646\n",
    "#     7015.487972735645\n",
    "\n",
    "#     print(analytic_sigma_intercept**2)\n",
    "#     print(2*(2*num_sensors - 1)/num_sensors/(num_sensors + 1)*sigma**2)\n",
    "#     2453.2480000000005\n",
    "#     2453.248\n",
    "\n",
    "# print((analytic_intercept/analytic_slope)*analytic_sigma_intercept_slope)\n",
    "# print(np.log(np.min(z)/analytic_zstar)*6/num_sensors/(num_sensors + 1)/delta_x*sigma**2)\n",
    "# 6664.266917591206\n",
    "# 6664.266917591205"
   ]
  },
  {
   "cell_type": "code",
   "execution_count": 138,
   "id": "b31b7f65",
   "metadata": {},
   "outputs": [
    {
     "name": "stdout",
     "output_type": "stream",
     "text": [
      "0.11424125989959885\n",
      "0.11232834191095233\n"
     ]
    }
   ],
   "source": [
    "num_sensors = 4\n",
    "base = 2.\n",
    "delta_x = np.log(base)\n",
    "z = 2.**np.arange(0, num_sensors, 1)\n",
    "x = np.log(z/np.min(z))\n",
    "kappa = 0.4\n",
    "\n",
    "slope = 148.\n",
    "intercept = 480.\n",
    "ustar = calc_ustar_from_slope(slope)\n",
    "zstar = calc_zstar_from_slope_and_intercept(np.min(z), slope, intercept)\n",
    "\n",
    "y = slope*x + intercept\n",
    "sigma = ustar/10.\n",
    "\n",
    "num_tries = 1\n",
    "\n",
    "for i in range(num_tries):\n",
    "    noisy_y = (y + normal(scale=sigma, size=len(x)))\n",
    "    \n",
    "    lin_popt, lin_pcov = np.polyfit(x, noisy_y, 1, w=1/sigma*np.ones_like(x), cov='unscaled')\n",
    "    lin_unc = np.sqrt(np.diag(lin_pcov))\n",
    "    \n",
    "    # Analytic solutions\n",
    "#     rescaled_sigma = rescale_sigma(noisy_y, np.polyval(lin_popt, x), sigma)\n",
    "    rescaled_sigma = sigma\n",
    "    \n",
    "    analytic_slope = calc_analytic_slope(delta_x, rescaled_sigma*np.ones_like(x), len(x), x, noisy_y)\n",
    "    analytic_intercept = calc_analytic_intercept(delta_x, rescaled_sigma*np.ones_like(x), len(x), x, noisy_y)\n",
    "    analytic_sigma_slope = calc_analytic_sigma_slope(delta_x, rescaled_sigma, num_sensors)\n",
    "    analytic_sigma_intercept = calc_analytic_sigma_intercept(rescaled_sigma, num_sensors)\n",
    "    analytic_sigma_intercept_slope = calc_sigma_intercept_slope(delta_x, rescaled_sigma, num_sensors)\n",
    "    \n",
    "    analytic_ustar = calc_ustar_from_slope(analytic_slope)\n",
    "    analytic_zstar = calc_zstar_from_slope_and_intercept(np.min(z), analytic_slope, analytic_intercept)\n",
    "    \n",
    "    # Calculating ustar/zstar uncertainties numerically\n",
    "    profile_popt, profile_pcov = curve_fit(wind_profile, z, noisy_y, p0=[ustar, zstar], \n",
    "                                           sigma=sigma*np.ones_like(x))\n",
    "    profile_unc = np.sqrt(np.diag(profile_pcov))\n",
    "\n",
    "    analytic_sigma_ustar = kappa*analytic_sigma_slope\n",
    "    analytic_sigma_zstar = zstar*(intercept/slope)*np.sqrt((analytic_sigma_slope/analytic_slope)**2 +\\\n",
    "                                                           (analytic_sigma_intercept/analytic_intercept)**2 +\\\n",
    "                                                           (2*analytic_sigma_intercept_slope/intercept/slope))\n",
    "    \n",
    "    term1 = np.log(np.min(z)/zstar)**2*12/num_sensors/(num_sensors**2 - 1)/delta_x**2\n",
    "    term2 = 2*(2*num_sensors - 1)/num_sensors/(num_sensors + 1)\n",
    "    term3 = 2*np.log(np.min(z)/zstar)*6/num_sensors/(num_sensors + 1)/delta_x\n",
    "    analytic_fraction_sigma_zstar = kappa*sigma/ustar*np.sqrt(term1 + term2 + term3)\n",
    "    \n",
    "    print(analytic_sigma_zstar/analytic_zstar)\n",
    "    print(analytic_fraction_sigma_zstar)\n",
    "    \n",
    "#     4.394449154672439"
   ]
  },
  {
   "cell_type": "markdown",
   "id": "460d921e",
   "metadata": {},
   "source": [
    "$$\n",
    "m = \\frac{u_\\star}{\\kappa}\\\\\n",
    "b = -\\frac{u_\\star}{\\kappa} \\ln \\left( \\frac{z_0}{z_\\star} \\right) = -m \\ln \\left( \\frac{z_0}{z_\\star} \\right)\n",
    "$$"
   ]
  },
  {
   "cell_type": "markdown",
   "id": "31e18c9c",
   "metadata": {},
   "source": [
    "$$\n",
    "\\sigma_{z_\\star} = z_\\star \\frac{b}{m} \\sqrt{ \\left( \\frac{\\sigma_m}{m} \\right)^2 + \\left( \\frac{\\sigma_b}{b} \\right)^2 - 2\\left( \\frac{\\sigma_{bm}}{bm} \\right) }\n",
    "$$"
   ]
  },
  {
   "cell_type": "markdown",
   "id": "0e56bea8",
   "metadata": {},
   "source": [
    "$$\n",
    "\\frac{\\sigma_{z_\\star}}{z_\\star} = \\kappa \\left( \\frac{\\sigma}{u_\\star} \\right) \\sqrt{ \\log^2\\left( \\frac{z_0}{z_\\star} \\right) \\left( \\dfrac{12}{N \\left( N^2 - 1 \\right) \\delta x^2 } \\right) + \\left( \\dfrac{2 \\left( 2N - 1 \\right) }{N \\left( N + 1 \\right) } \\right) + 2 \\log \\left( \\frac{z_0}{z_\\star} \\right) \\left( \\dfrac{6}{N \\left( N + 1\\right) \\delta x } \\right)}\n",
    "$$\n",
    "\n",
    "$$\n",
    "\\bigg|\\frac{b}{m}\\bigg| = \\frac{\\frac{u_\\star}{\\kappa}\\log \\left( \\frac{z_0}{z_\\star} \\right)}{\\frac{u_\\star}{\\kappa}} = \\log \\left( \\frac{z_0}{z_\\star} \\right)\n",
    "$$"
   ]
  }
 ],
 "metadata": {
  "kernelspec": {
   "display_name": "Python 3",
   "language": "python",
   "name": "python3"
  },
  "language_info": {
   "codemirror_mode": {
    "name": "ipython",
    "version": 3
   },
   "file_extension": ".py",
   "mimetype": "text/x-python",
   "name": "python",
   "nbconvert_exporter": "python",
   "pygments_lexer": "ipython3",
   "version": "3.8.8"
  }
 },
 "nbformat": 4,
 "nbformat_minor": 5
}
