{
 "cells": [
  {
   "cell_type": "markdown",
   "id": "53de69dc",
   "metadata": {},
   "source": [
    "A series of sanity checks"
   ]
  },
  {
   "cell_type": "code",
   "execution_count": 1,
   "id": "550dacc5",
   "metadata": {},
   "outputs": [],
   "source": [
    "%matplotlib inline\n",
    "import numpy as np\n",
    "import matplotlib.pyplot as plt\n",
    "from numpy.random import normal, random\n",
    "from scipy.optimize import curve_fit\n",
    "\n",
    "from local_utils import *\n",
    "\n",
    "BoiseState_blue = '#0033A0'\n",
    "BoiseState_orange = '#D64309'\n",
    "aspect_ratio = 16./9"
   ]
  },
  {
   "cell_type": "code",
   "execution_count": 8,
   "id": "d187abb0",
   "metadata": {},
   "outputs": [],
   "source": [
    "def calc_S(sigma):\n",
    "    return np.sum(1./sigma**2)\n",
    "\n",
    "def calc_Sx(x, sigma):\n",
    "    return np.sum(x/sigma**2)\n",
    "\n",
    "def calc_Sxx(x, sigma):\n",
    "    return np.sum(x**2/sigma**2)\n",
    "\n",
    "def calc_Sy(y, sigma):\n",
    "    return np.sum(y/sigma**2)\n",
    "\n",
    "def calc_Syy(y, sigma):\n",
    "    return np.sum(y**2/sigma**2)\n",
    "\n",
    "def calc_Sxy(x, y, sigma):\n",
    "    return np.sum(x*y/sigma**2)\n",
    "\n",
    "def calc_Delta(x, sigma):\n",
    "    S = calc_S(sigma)\n",
    "    Sxx = calc_Sxx(x, sigma)\n",
    "    Sx = calc_Sx(x, sigma)\n",
    "    \n",
    "    return S*Sxx - Sx**2\n",
    "    \n",
    "def calc_cov(x, sigma):\n",
    "    return -calc_Sx(x, sigma)/calc_Delta(x, sigma)\n",
    "\n",
    "def calc_analytic_Delta(delta_x, sigma, N):  \n",
    "    return delta_x**2/12/sigma**4*N**2*(N**2 - 1)\n",
    "\n",
    "def calc_analytic_S(sigma, N):\n",
    "    return N/sigma**2\n",
    "\n",
    "def calc_analytic_Sx(delta_x, sigma, N):\n",
    "    return 0.5*delta_x/sigma**2*(N - 1)*N\n",
    "\n",
    "def calc_analytic_Sxx(delta_x, sigma, N):\n",
    "    return delta_x**2/sigma**2*(N - 1)*N*(2*N - 1)/6\n",
    "\n",
    "def calc_analytic_Delta(delta_x, sigma, N):\n",
    "    return delta_x**2/sigma**4/12*N**2*(N**2 - 1)\n",
    "\n",
    "def sigma_intercept(x, sigma):\n",
    "    Sxx = calc_Sxx(x, sigma)\n",
    "    Delta = calc_Delta(x, sigma)\n",
    "    \n",
    "    return np.sqrt(Sxx/Delta)\n",
    "\n",
    "def sigma_slope(x, sigma):\n",
    "    S = calc_S(sigma)\n",
    "    Delta = calc_Delta(x, sigma)\n",
    "    \n",
    "    return np.sqrt(S/Delta)\n",
    "\n",
    "def lin_fit(x, m, b):\n",
    "    return m*x + b\n",
    "\n",
    "def calc_slope(x, y, sigma):\n",
    "    S = calc_S(sigma)\n",
    "    Sx = calc_Sx(x, sigma)\n",
    "\n",
    "    t = (x - Sx/S)/sigma\n",
    "    Stt = calc_Sxx(t, np.ones_like(sigma))\n",
    "        \n",
    "    return np.sum(t*y/sigma)/Stt\n",
    "    \n",
    "def calc_intercept(x, y, sigma):\n",
    "    slope = calc_slope(x, y, sigma)\n",
    "    \n",
    "    S = calc_S(sigma)\n",
    "    Sx = calc_Sx(x, sigma)\n",
    "    Sy = calc_Sy(y, sigma)\n",
    "    \n",
    "    return (Sy - Sx*slope)/S\n",
    "\n",
    "def calc_analytic_intercept(delta_x, sigma, N, x, y):\n",
    "    Sxx = calc_analytic_Sxx(delta_x, sigma, N)\n",
    "    Sy = calc_Sy(y, sigma)\n",
    "    Sx = calc_analytic_Sx(delta_x, sigma, N)\n",
    "    Sxy = calc_Sxy(x, y, sigma)\n",
    "    Delta = calc_analytic_Delta(delta_x, sigma, N)\n",
    "   \n",
    "    return (Sxx*Sy - Sx*Sxy)/Delta\n",
    "\n",
    "def calc_analytic_slope(delta_x, sigma, N, x, y):\n",
    "    S = calc_analytic_S(sigma, N)\n",
    "    Sxy = calc_Sxy(x, y, sigma)\n",
    "    Sx = calc_analytic_Sx(delta_x, sigma, N)\n",
    "    Sy = calc_Sy(y, sigma)\n",
    "    Delta = calc_analytic_Delta(delta_x, sigma, N)\n",
    "    \n",
    "    return (S*Sxy - Sx*Sy)/Delta\n",
    "\n",
    "def calc_analytic_sigma_intercept(delta_x, sigma, N):\n",
    "    return np.sqrt(2.*sigma**2*(2*N - 1)/N/(N + 1))\n",
    "\n",
    "def calc_analytic_sigma_slope(delta_x, sigma, N):\n",
    "    return np.sqrt(12*sigma**2/delta_x**2/N/(N**2 - 1))"
   ]
  },
  {
   "cell_type": "code",
   "execution_count": 3,
   "id": "0787bc13",
   "metadata": {},
   "outputs": [
    {
     "ename": "NameError",
     "evalue": "name 'sigma' is not defined",
     "output_type": "error",
     "traceback": [
      "\u001b[0;31m---------------------------------------------------------------------------\u001b[0m",
      "\u001b[0;31mNameError\u001b[0m                                 Traceback (most recent call last)",
      "Input \u001b[0;32mIn [3]\u001b[0m, in \u001b[0;36m<cell line: 2>\u001b[0;34m()\u001b[0m\n\u001b[1;32m      1\u001b[0m \u001b[38;5;66;03m# With sigma = 1, Sx/n should be the average value of x.\u001b[39;00m\n\u001b[0;32m----> 2\u001b[0m \u001b[38;5;28mprint\u001b[39m(calc_S(\u001b[43msigma\u001b[49m), calc_analytic_S(sigma[\u001b[38;5;241m0\u001b[39m], num_sensors))\n\u001b[1;32m      3\u001b[0m \u001b[38;5;28mprint\u001b[39m(calc_Sx(x, sigma), calc_analytic_Sx(delta_x, sigma[\u001b[38;5;241m0\u001b[39m], num_sensors))\n\u001b[1;32m      4\u001b[0m \u001b[38;5;66;03m# print(calc_Sy(y, sigma)/len(y), np.mean(y)) # There is no analytic Sy!\u001b[39;00m\n",
      "\u001b[0;31mNameError\u001b[0m: name 'sigma' is not defined"
     ]
    }
   ],
   "source": [
    "# With sigma = 1, Sx/n should be the average value of x.\n",
    "print(calc_S(sigma), calc_analytic_S(sigma[0], num_sensors))\n",
    "print(calc_Sx(x, sigma), calc_analytic_Sx(delta_x, sigma[0], num_sensors))\n",
    "# print(calc_Sy(y, sigma)/len(y), np.mean(y)) # There is no analytic Sy!\n",
    "print(calc_Sxx(x, sigma), calc_analytic_Sxx(delta_x, sigma[0], num_sensors))\n",
    "# print(calc_Syy(y, 1.)/len(y), np.mean(y**2))\n",
    "# print(calc_Sxy(x, y, 1.)/len(x), np.mean(x*y))\n",
    "print(calc_Delta(x, sigma), calc_analytic_Delta(delta_x, sigma[0], num_sensors))"
   ]
  },
  {
   "cell_type": "code",
   "execution_count": 2,
   "id": "807a2ceb",
   "metadata": {},
   "outputs": [
    {
     "name": "stdout",
     "output_type": "stream",
     "text": [
      "popt:  [152.48857056 478.4368899 ]\n",
      "unc:  [ 6.08048116 13.14153754]\n",
      "analytic_sigma_slope, analytic_sigma_intercept:  7.742314037350946 16.733200530681508\n",
      "redchisq0:  1.233571492750526\n",
      "redchisq_plus:  7.456932805230328\n",
      "redchisq_minus:  7.4569328052303625\n",
      "redchisq_analytic_plus:  11.323560356879227\n",
      "redchisq_analytic_minus:  11.323560356879309\n"
     ]
    }
   ],
   "source": [
    "num_points = 4\n",
    "# z = np.array([1., 2., 4., 8.])\n",
    "z = 2.**(np.linspace(0, 5, num_points))\n",
    "x = np.log(z/np.min(z))\n",
    "# x = np.linspace(np.min(z), np.max(z), 100)\n",
    "delta_x = np.log(z[1]/z[0])\n",
    "slope = 148.\n",
    "intercept = 480.\n",
    "y = slope*x + intercept\n",
    "sigma = 20.\n",
    "\n",
    "analytic_sigma_slope = sigma_slope(x, sigma*np.ones_like(x))    \n",
    "analytic_sigma_intercept = sigma_intercept(x, sigma*np.ones_like(x))\n",
    "analytic_unc = np.array([analytic_sigma_slope, analytic_sigma_intercept])\n",
    "\n",
    "noisy_y = (y + normal(scale=sigma, size=len(x)))\n",
    "    \n",
    "popt, pcov = np.polyfit(x, noisy_y, 1, w=1./sigma*np.ones_like(x), cov=True)\n",
    "unc = np.sqrt(np.diag(pcov))\n",
    "print(\"popt: \", popt)\n",
    "print(\"unc: \", unc)\n",
    "print(\"analytic_sigma_slope, analytic_sigma_intercept: \", analytic_sigma_slope, analytic_sigma_intercept)\n",
    "\n",
    "redchisq0 = redchisqg(noisy_y, np.polyval(popt, x), sd=sigma)\n",
    "print(\"redchisq0: \", redchisq0)\n",
    "\n",
    "redchisq_plus = redchisqg(noisy_y, np.polyval(popt + unc, x), sd=sigma)\n",
    "print(\"redchisq_plus: \", redchisq_plus)\n",
    "redchisq_minus = redchisqg(noisy_y, np.polyval(popt - unc, x), sd=sigma)\n",
    "print(\"redchisq_minus: \", redchisq_minus)\n",
    "\n",
    "redchisq_analytic_plus = redchisqg(noisy_y, np.polyval(popt + analytic_unc, x), sd=sigma)\n",
    "print(\"redchisq_analytic_plus: \", redchisq_analytic_plus)\n",
    "redchisq_analytic_minus = redchisqg(noisy_y, np.polyval(popt - analytic_unc, x), sd=sigma)\n",
    "print(\"redchisq_analytic_minus: \", redchisq_analytic_minus)\n",
    "\n",
    "# num_points = 4\n",
    "# unc:  [3.47552737 7.51153933]\n",
    "# analytic_sigma_slope, analytic_sigma_intercept:  7.742314037350946 16.733200530681508\n",
    "# redchisq0:  0.40302302181207844\n",
    "# redchisq_plus:  0.9113352470709994\n",
    "# redchisq_minus:  0.91133524707098\n",
    "# redchisq_analytic_plus:  2.9255202378442924\n",
    "# redchisq_analytic_minus:  2.9255202378442298\n",
    "\n"
   ]
  },
  {
   "cell_type": "code",
   "execution_count": 3,
   "id": "8ea048d4",
   "metadata": {},
   "outputs": [
    {
     "name": "stdout",
     "output_type": "stream",
     "text": [
      "[0.15907001 0.31836976]\n",
      "chisq0:  1013.892528446116\n",
      "np.abs(delta_fit_slope[srt_ind][0:2] - popt[0]) - unc[0]:  [-0.30203165 -0.30203165]\n",
      "np.abs(delta_fit_slope[srt_ind][0:2] - popt[0]) - analytic_unc[0]:  [-0.29677681 -0.29677681]\n"
     ]
    },
    {
     "data": {
      "text/plain": [
       "(147.5682725254131, 148.20455258073602)"
      ]
     },
     "execution_count": 3,
     "metadata": {},
     "output_type": "execute_result"
    },
    {
     "data": {
      "image/png": "[encoded data removed]",
      "text/plain": [
       "<Figure size 432x288 with 1 Axes>"
      ]
     },
     "metadata": {
      "needs_background": "light"
     },
     "output_type": "display_data"
    }
   ],
   "source": [
    "num_points = 1000\n",
    "# z = np.array([1., 2., 4., 8.])\n",
    "z = 2.**(np.linspace(0, 5, num_points))\n",
    "x = np.log(z/np.min(z))\n",
    "# x = np.linspace(np.min(z), np.max(z), 100)\n",
    "delta_x = np.log(z[1]/z[0])\n",
    "slope = 148.\n",
    "intercept = 480.\n",
    "y = slope*x + intercept\n",
    "sigma = 5.\n",
    "\n",
    "analytic_sigma_slope = sigma_slope(x, sigma*np.ones_like(x))    \n",
    "analytic_sigma_intercept = sigma_intercept(x, sigma*np.ones_like(x))\n",
    "analytic_unc = np.array([analytic_sigma_slope, analytic_sigma_intercept])\n",
    "\n",
    "noisy_y = (y + normal(scale=sigma, size=len(x)))\n",
    "    \n",
    "popt, pcov = np.polyfit(x, noisy_y, 1, w=1./sigma*np.ones_like(x), cov=True)\n",
    "unc = np.sqrt(np.diag(pcov))\n",
    "print(unc)\n",
    "chisq0 = chisqg(noisy_y, np.polyval([slope, intercept], x), sd=sigma)\n",
    "print(\"chisq0: \", chisq0)\n",
    "\n",
    "# Rescale uncertainties because why not?\n",
    "# unc *= np.sqrt(chisq0/(len(x) - 2))\n",
    "# analytic_unc *= np.sqrt(chisq0/(len(x) - 2))\n",
    "\n",
    "delta_fit_slope = np.linspace(popt[0]*0.95, popt[0]*1.05, 1000)\n",
    "delta_chisq = np.zeros_like(delta_fit_slope)\n",
    "for i in range(len(delta_fit_slope)):\n",
    "    delta_chisq[i] = chisqg(noisy_y, np.polyval([delta_fit_slope[i], popt[1]], x), sd=sigma) - chisq0\n",
    "    \n",
    "srt_ind = np.argsort(np.abs(delta_chisq - 1.))\n",
    "print(\"np.abs(delta_fit_slope[srt_ind][0:2] - popt[0]) - unc[0]: \", \n",
    "      (np.abs(delta_fit_slope[srt_ind][0:2] - popt[0]) - unc[0])/unc[0])\n",
    "print(\"np.abs(delta_fit_slope[srt_ind][0:2] - popt[0]) - analytic_unc[0]: \", \n",
    "      (np.abs(delta_fit_slope[srt_ind][0:2] - popt[0]) - analytic_unc[0])/analytic_unc[0])\n",
    "\n",
    "plt.plot(delta_fit_slope, delta_chisq)\n",
    "plt.axvline(popt[0] + unc[0])\n",
    "plt.axvline(popt[0] - unc[0])\n",
    "\n",
    "plt.axvline(popt[0] + analytic_unc[0], ls='--')\n",
    "plt.axvline(popt[0] - analytic_unc[0], ls='--')\n",
    "\n",
    "plt.axhline(1)\n",
    "\n",
    "plt.ylim([0, 5])\n",
    "plt.xlim([popt[0] - 2*np.max([unc[0], analytic_unc[0]]), popt[0] + 2*np.max([unc[0], analytic_unc[0]])])"
   ]
  },
  {
   "cell_type": "code",
   "execution_count": 4,
   "id": "60648de6",
   "metadata": {},
   "outputs": [
    {
     "name": "stdout",
     "output_type": "stream",
     "text": [
      "15.833036974094243\n",
      "15.60780285068667\n",
      "0.7882653908428147\n",
      "0.8\n"
     ]
    },
    {
     "data": {
      "image/png": "[encoded data removed]",
      "text/plain": [
       "<Figure size 432x288 with 1 Axes>"
      ]
     },
     "metadata": {
      "needs_background": "light"
     },
     "output_type": "display_data"
    }
   ],
   "source": [
    "# Everything checks out - I am, in principle, calculating the uncertainties correctly.\n",
    "\n",
    "def calc_std_zstar(z0, slope, intercept, sigma_slope, sigma_intercept, kappa=0.4):\n",
    "    zstar = calc_zstar_from_slope_and_intercept(z0, slope, intercept)\n",
    "    return zstar*intercept/slope*np.sqrt((sigma_slope/slope)**2 + (sigma_intercept/intercept)**2)\n",
    "\n",
    "def calc_std_ustar(sigma_slope, kappa=0.4):\n",
    "    return kappa*sigma_slope\n",
    "\n",
    "# Just checking whether I have any idea what I'm doing\n",
    "num_points = 1000\n",
    "\n",
    "mean_slope = 10\n",
    "std_slope = 2\n",
    "\n",
    "mean_intercept = 10\n",
    "std_intercept = 2\n",
    "\n",
    "z0 = 150. # cm\n",
    "\n",
    "ms = normal(scale=std_slope, size=num_points) + mean_slope\n",
    "bs = normal(scale=std_intercept, size=num_points) + mean_intercept\n",
    "\n",
    "ustars = calc_ustar_from_slope(ms)\n",
    "zstars = calc_zstar_from_slope_and_intercept(z0, ms, bs)\n",
    "\n",
    "plt.scatter(ustars, zstars)\n",
    "\n",
    "print(np.std(zstars))\n",
    "print(calc_std_zstar(z0, mean_slope, mean_intercept, std_slope, std_intercept))\n",
    "\n",
    "print(np.std(ustars))\n",
    "print(calc_std_ustar(std_slope))"
   ]
  },
  {
   "cell_type": "code",
   "execution_count": 31,
   "id": "ce9f6024",
   "metadata": {},
   "outputs": [
    {
     "name": "stdout",
     "output_type": "stream",
     "text": [
      "[147.80673243 466.6282231 ]\n",
      "[ 0.50758555 20.16058919]\n",
      "[147.80673243425178, 466.6282230987919]\n",
      "[0.5075855485619255, 20.160589191732655]\n"
     ]
    }
   ],
   "source": [
    "# Now checking whether my analytic expressions (now corrected and corrected and corrected) match up\n",
    "num_sensors = 100\n",
    "base = 2.\n",
    "delta_x = np.log(base)\n",
    "z = 2.**np.arange(0, num_sensors, 1)\n",
    "x = np.log(z/np.min(z))\n",
    "\n",
    "slope = 148.\n",
    "intercept = 480.\n",
    "y = slope*x + intercept\n",
    "sigma = (np.max(y) - np.min(y))/100.\n",
    "\n",
    "num_tries = 1\n",
    "\n",
    "for i in range(num_tries):\n",
    "    noisy_y = (y + normal(scale=sigma, size=len(x)))\n",
    "#     noisy_y = y\n",
    "    \n",
    "    popt, pcov = np.polyfit(x, noisy_y, 1, w=1/sigma*np.ones_like(x), cov='unscaled')\n",
    "    unc = np.sqrt(np.diag(pcov))\n",
    "    \n",
    "    # Rescale uncertainties because why not?\n",
    "    mod = np.polyval(popt, x)\n",
    "    rescaled_sigma = rescale_sigma(noisy_y, mod, sigma)\n",
    "    \n",
    "    # Analytic solutions\n",
    "    analytic_slope = calc_analytic_slope(delta_x, rescaled_sigma*np.ones_like(x), len(x), x, noisy_y)\n",
    "    analytic_intercept = calc_analytic_intercept(delta_x, rescaled_sigma*np.ones_like(x), len(x), x, noisy_y)\n",
    "    analytic_sigma_slope = calc_analytic_sigma_slope(delta_x, sigma, num_sensors)\n",
    "    analytic_sigma_intercept = calc_analytic_sigma_intercept(sigma, num_sensors)\n",
    "    \n",
    "    # Numerical solutions\n",
    "#     analytic_slope = calc_slope(x, noisy_y, rescaled_sigma*np.ones_like(x))\n",
    "#     analytic_intercept = calc_intercept(x, noisy_y, rescaled_sigma*np.ones_like(x))\n",
    "#     analytic_sigma_slope = sigma_slope(x, rescaled_sigma*np.ones_like(x))    \n",
    "#     analytic_sigma_intercept = sigma_intercept(x, rescaled_sigma*np.ones_like(x))\n",
    "    \n",
    "    print(popt)\n",
    "    print(unc)\n",
    "    print([analytic_slope, analytic_intercept])\n",
    "    print([analytic_sigma_slope, analytic_sigma_intercept])\n",
    "  \n",
    "# num_sensors = 100\n",
    "# [148.22078701 488.59145232]\n",
    "# [ 0.53294481 21.16782374]\n",
    "# [148.22078701230407, 488.5914523194569]\n",
    "# [0.5075855485619255, 20.160589191732655]\n",
    "\n",
    "# num_sensors = 4\n",
    "# [147.75614274 478.9749204 ]\n",
    "# [2.50356034 3.24651599]\n",
    "# [147.7561427381081, 478.9749203971347]\n",
    "# [1.985628364019813, 2.5748827108481067]\n",
    "\n",
    "# num_sensors = 4, noisy_y = y \n",
    "# [148. 480.]\n",
    "# [2.75644840e-14 3.57445101e-14]\n",
    "# [148.00000000000009, 480.0000000000001]\n",
    "# [1.985628364019813, 2.5748827108481067]\n",
    "\n",
    "# num_sensors = 100, noisy_y = y \n",
    "# [148. 480.]\n",
    "# [5.62935249e-15 2.23590020e-13]\n",
    "# [148.00000000000003, 480.0000000000023]\n",
    "# [0.5075855485619255, 20.160589191732655]"
   ]
  },
  {
   "cell_type": "code",
   "execution_count": 155,
   "id": "d7cea49b",
   "metadata": {},
   "outputs": [
    {
     "name": "stdout",
     "output_type": "stream",
     "text": [
      "2.191183140320397\n",
      "1.843725393319379\n"
     ]
    }
   ],
   "source": [
    "# chisqg(ydata,ymod,sd=None)\n",
    "\n",
    "z = np.array([1., 2., 4., 8.])\n",
    "x = np.log(z/np.min(z))\n",
    "delta_x = np.log(z[1]/z[0])\n",
    "slope = 148.\n",
    "intercept = 480.\n",
    "y = slope*x + intercept\n",
    "sigma = (np.max(y) - np.min(y))*2.\n",
    "\n",
    "num_tries = 1\n",
    "\n",
    "analytic_sigma_slope = sigma_slope(x, sigma*np.ones_like(x))    \n",
    "analytic_sigma_intercept = sigma_intercept(x, sigma*np.ones_like(x))\n",
    "\n",
    "for i in range(num_tries):\n",
    "    noisy_y = (y + normal(scale=sigma, size=len(x)))\n",
    "    \n",
    "    popt, pcov = np.polyfit(x, noisy_y, 1, w=1/sigma*np.ones_like(x), cov=True)\n",
    "    unc = np.sqrt(np.diag(pcov))\n",
    "    mod0 = np.polyval(popt, x)\n",
    "    mod = np.polyval(popt + 0.5*unc, x)\n",
    "    print(chisqg(noisy_y, mod, sd=sigma) - chisqg(noisy_y, mod0, sd=sigma))\n",
    "    \n",
    "    analytic_slope = calc_analytic_slope(delta_x, sigma, len(x), x, noisy_y)\n",
    "    analytic_intercept = calc_analytic_intercept(delta_x, sigma, len(x), x, noisy_y)\n",
    "    mod0 = np.polyval([analytic_slope, analytic_intercept], x)\n",
    "    mod = np.polyval([analytic_slope + 0.5*analytic_sigma_slope, \n",
    "                      analytic_intercept + 0.5*analytic_sigma_intercept], \n",
    "                     x)\n",
    "    print(chisqg(noisy_y, mod, sd=sigma) - chisqg(noisy_y, mod0, sd=sigma))\n",
    "    \n",
    "# #     popt, pcov = curve_fit(lin_fit, x, noisy_y)\n",
    "#     slopes[i] = popt[0]\n",
    "#     intercepts[i] = popt[1]\n",
    "#     slopes_sigma[i] = np.sqrt(np.diag(pcov))[0]\n",
    "#     intercepts_sigma[i] = np.sqrt(np.diag(pcov))[1]\n",
    "    \n",
    "# analytic_sigma_slope = sigma_slope(x, sigma*np.ones_like(x))    \n",
    "# analytic_sigma_intercept = sigma_intercept(x, sigma*np.ones_like(x))"
   ]
  },
  {
   "cell_type": "code",
   "execution_count": 102,
   "id": "25e767b5",
   "metadata": {},
   "outputs": [
    {
     "name": "stdout",
     "output_type": "stream",
     "text": [
      "18.911558478699124 25.691042765788183\n",
      "18.049018828615832 23.405239052634293\n",
      "19.856283640198132 25.748827108481073\n"
     ]
    },
    {
     "data": {
      "text/plain": [
       "<ErrorbarContainer object of 3 artists>"
      ]
     },
     "execution_count": 102,
     "metadata": {},
     "output_type": "execute_result"
    },
    {
     "data": {
      "image/png": "[encoded data removed]",
      "text/plain": [
       "<Figure size 432x288 with 1 Axes>"
      ]
     },
     "metadata": {
      "needs_background": "light"
     },
     "output_type": "display_data"
    }
   ],
   "source": [
    "# Trying to figure out whether polyfit's uncertainties or NR's uncertainties are right\n",
    "# z = np.array([ 150., 300., 600., 1200.])\n",
    "z = np.array([1., 2., 4., 8.])\n",
    "x = np.log(z/np.min(z))\n",
    "slope = 148.\n",
    "intercept = 480.\n",
    "y = slope*x + intercept\n",
    "sigma = (np.max(y) - np.min(y))/10\n",
    "\n",
    "num_tries = 100\n",
    "\n",
    "slopes = np.zeros(num_tries)\n",
    "intercepts = np.zeros(num_tries)\n",
    "slopes_sigma = np.zeros(num_tries)\n",
    "intercepts_sigma = np.zeros(num_tries)\n",
    "\n",
    "for i in range(num_tries):\n",
    "    noisy_y = (y + normal(scale=sigma, size=len(x)))\n",
    "    \n",
    "    popt, pcov = np.polyfit(x, noisy_y, 1, w=1/sigma*np.ones_like(x), cov=True)\n",
    "#     popt, pcov = curve_fit(lin_fit, x, noisy_y)\n",
    "    slopes[i] = popt[0]\n",
    "    intercepts[i] = popt[1]\n",
    "    slopes_sigma[i] = np.sqrt(np.diag(pcov))[0]\n",
    "    intercepts_sigma[i] = np.sqrt(np.diag(pcov))[1]\n",
    "    \n",
    "analytic_sigma_slope = sigma_slope(x, sigma*np.ones_like(x))    \n",
    "analytic_sigma_intercept = sigma_intercept(x, sigma*np.ones_like(x))\n",
    "    \n",
    "plt.scatter(slopes, intercepts, marker='o', color='blue')    \n",
    "print(np.std(slopes), np.std(intercepts))\n",
    "print(np.mean(slopes_sigma), np.mean(intercepts_sigma))\n",
    "print(analytic_sigma_slope, analytic_sigma_intercept)\n",
    "plt.errorbar([slope, slope], [intercept, intercept], xerr=[np.mean(slopes_sigma), np.mean(slopes_sigma)], \n",
    "             yerr=[np.mean(intercepts_sigma), np.mean(intercepts_sigma)], \n",
    "        marker='o', color='blue', lw=6)\n",
    "plt.errorbar([slope, slope], [intercept, intercept], \n",
    "             xerr=[analytic_sigma_slope, analytic_sigma_slope], \n",
    "             yerr=[analytic_sigma_intercept, analytic_sigma_intercept], \n",
    "        marker='o', color='red', lw=3, alpha=0.5)"
   ]
  },
  {
   "cell_type": "code",
   "execution_count": 29,
   "id": "44ad841d",
   "metadata": {},
   "outputs": [
    {
     "name": "stdout",
     "output_type": "stream",
     "text": [
      "[107.37448828 507.98994603]\n",
      "[34.72593907 45.031196  ]\n",
      "2.0901615644827056\n",
      "107.37448799095765 507.989946575\n",
      "33.96871032275927 44.049252370071265\n"
     ]
    },
    {
     "data": {
      "image/png": "[encoded data removed]",
      "text/plain": [
       "<Figure size 432x288 with 1 Axes>"
      ]
     },
     "metadata": {
      "needs_background": "light"
     },
     "output_type": "display_data"
    }
   ],
   "source": [
    "# Let's test these expressions\n",
    "num_sensors = 4\n",
    "base = 2.\n",
    "delta_x = np.log(base)\n",
    "\n",
    "# z = np.array([ 150., 300., 600., 1200.])\n",
    "z = np.array([1., 2., 4., 8.])\n",
    "x = np.log(z/np.min(z))\n",
    "\n",
    "# slope = 114.26664167\n",
    "# intercept = 522.18547383\n",
    "slope = 148.\n",
    "intercept = 480.\n",
    "y = slope*x + intercept\n",
    "\n",
    "sigma = np.mean([52.73472421, 42.93106227, 60.94672099, 53.98319914])\n",
    "# sigma = 1.\n",
    "\n",
    "num_tries = 1\n",
    "\n",
    "analytic_sigma_slope = sigma_slope(x, sigma*np.ones_like(x))\n",
    "analytic_sigma_intercept = sigma_intercept(x, sigma*np.ones_like(x))\n",
    "\n",
    "for i in range(num_tries):\n",
    "#     noisy_y = y + normal(scale=sigma, size=len(x))\n",
    "    noisy_y = np.array([548.53654271, 521.12399152, 657.78736274, 751.06983102])\n",
    "    \n",
    "    popt, pcov = np.polyfit(x, noisy_y, 1, w=1/sigma*np.ones_like(x), cov=True)\n",
    "    unc = np.sqrt(np.diag(pcov))\n",
    "#     print(popt)\n",
    "#     print(unc)\n",
    "\n",
    "    popt, pcov = curve_fit(lin_fit, x, noisy_y, sigma=sigma*np.ones_like(x), method='lm')\n",
    "    unc = np.sqrt(np.diag(pcov))\n",
    "    print(popt)\n",
    "    print(unc)\n",
    "    \n",
    "    plt.errorbar([popt[0], popt[0]], [popt[1], popt[1]], xerr=[unc[0], unc[0]], yerr=[unc[1], unc[1]], \n",
    "            marker='o', color='blue', alpha=0.5, lw=6)\n",
    "       \n",
    "    analytic_slope = calc_analytic_slope(delta_x, sigma, num_sensors, x, noisy_y)\n",
    "    analytic_intercept = calc_analytic_intercept(delta_x, sigma, num_sensors, x, noisy_y)\n",
    "\n",
    "    # Re-scale uncertainties\n",
    "    mod = np.polyval([analytic_slope, analytic_intercept], x)\n",
    "    redchisq = chisqg(noisy_y, mod, sd=sigma)\n",
    "    inferred_sigma = sigma\n",
    "    \n",
    "#     if(redchisq > 1):\n",
    "#         inferred_sigma = sigma*np.sqrt(redchisq)    \n",
    "    \n",
    "    analytic_sigma_slope = sigma_slope(x, inferred_sigma*np.ones_like(x))\n",
    "    analytic_sigma_intercept = sigma_intercept(x, inferred_sigma*np.ones_like(x))\n",
    "\n",
    "    print(redchisq)\n",
    "    print(analytic_slope, analytic_intercept)\n",
    "    print(analytic_sigma_slope, analytic_sigma_intercept)\n",
    "    \n",
    "    plt.errorbar([analytic_slope, analytic_slope], \n",
    "                 [analytic_intercept, analytic_intercept], \n",
    "                 xerr=[analytic_sigma_slope, analytic_sigma_slope], \n",
    "                 yerr=[analytic_sigma_intercept, analytic_sigma_intercept], \n",
    "            marker='.', color='orange', alpha=0.5)\n",
    "\n",
    "#     plt.errorbar([analytic_slope, analytic_slope], \n",
    "#                  [analytic_intercept, analytic_intercept], \n",
    "#             marker='.', color='orange', alpha=0.5)\n",
    "\n",
    "# analytic_slope = calc_analytic_slope(delta_x, sigma, num_sensors, x, noisy_y)\n",
    "# analytic_slope_sigma = calc_analytic_sigma_slope(delta_x, sigma, num_sensors)\n",
    "# analytic_intercept = calc_analytic_intercept(delta_x, sigma, num_sensors, x, noisy_y)\n",
    "# analytic_intercept_sigma = calc_analytic_sigma_intercept(delta_x, sigma, num_sensors)\n",
    "\n",
    "# Sxx = calc_analytic_Sxx(delta_x, sigma[0], num_sensors)\n",
    "# Delta = calc_analytic_Delta(delta_x, sigma[0], num_sensors)\n",
    "\n",
    "# plt.fill_between([analytic_slope - analytic_slope_sigma, analytic_slope + analytic_slope_sigma], \n",
    "#                  [analytic_intercept - analytic_intercept_sigma, analytic_intercept - analytic_intercept_sigma],\n",
    "#                  [analytic_intercept + analytic_intercept_sigma, analytic_intercept + analytic_intercept_sigma],\n",
    "#                 alpha=0.5)\n",
    "\n",
    "# numerical_slope = calc_slope(x, noisy_y, sigma)\n",
    "# numerical_slope_sigma = sigma_slope(x, sigma)\n",
    "# numerical_intercept = calc_intercept(x, noisy_y, sigma)\n",
    "# numerical_intercept_sigma = sigma_intercept(x, sigma)\n",
    "\n",
    "# plt.fill_between([numerical_slope - numerical_slope_sigma, numerical_slope + numerical_slope_sigma], \n",
    "#                  [numerical_intercept - numerical_intercept_sigma, numerical_intercept - numerical_intercept_sigma],\n",
    "#                  [numerical_intercept + numerical_intercept_sigma, numerical_intercept + numerical_intercept_sigma],\n",
    "#                 alpha=0.5)"
   ]
  },
  {
   "cell_type": "markdown",
   "id": "460d921e",
   "metadata": {},
   "source": [
    "$$\n",
    "m = \\frac{u_\\star}{\\kappa}\\\\\n",
    "b = -\\frac{u_\\star}{\\kappa} \\ln \\left( \\frac{z_0}{z_\\star} \\right) = -m \\ln \\left( \\frac{z_0}{z_\\star} \\right)\n",
    "$$"
   ]
  },
  {
   "cell_type": "markdown",
   "id": "31e18c9c",
   "metadata": {},
   "source": [
    "$$\n",
    "\\sigma_{z_\\star} = z_\\star \\frac{b}{m} \\sqrt{ \\left( \\frac{\\sigma_m}{m} \\right)^2 + \\left( \\frac{\\sigma_m}{b} \\right)^2 - 2\\left( \\frac{\\sigma_{bm}}{bm} \\right) }\n",
    "$$"
   ]
  },
  {
   "cell_type": "code",
   "execution_count": 31,
   "id": "a0dd6dbd",
   "metadata": {},
   "outputs": [
    {
     "name": "stdout",
     "output_type": "stream",
     "text": [
      "[59.33410023  5.87216811]\n",
      "40.51705465955948\n"
     ]
    },
    {
     "data": {
      "image/png": "[encoded data removed]",
      "text/plain": [
       "<Figure size 432x288 with 1 Axes>"
      ]
     },
     "metadata": {
      "needs_background": "light"
     },
     "output_type": "display_data"
    }
   ],
   "source": [
    "# Let's test these expressions\n",
    "num_sensors = 4\n",
    "base = 2.\n",
    "delta_x = np.log(base)\n",
    "\n",
    "# sigma = 0.1*np.ones(num_sensors)\n",
    "# slope = 10.\n",
    "# intercept = 1.\n",
    "# kappa = 0.4\n",
    "# z = base**(np.linspace(0, num_sensors - 1, num_sensors))\n",
    "\n",
    "# ustar = kappa*slope\n",
    "# zstar = np.min(z)*np.exp(-intercept/slope)\n",
    "\n",
    "z = np.array([ 150., 300., 600., 1200.])\n",
    "x = np.log(z/np.min(z))\n",
    "\n",
    "# sigma = np.mean([34.08092668, 43.10055741, 38.10124155, 39.29545398])\n",
    "sigma = 15.\n",
    "\n",
    "num_tries = 1\n",
    "\n",
    "for i in range(num_tries):\n",
    "#     noisy_y = y + normal(scale=sigma[0], size=num_sensors)\n",
    "    noisy_y = np.array([485.87922694, 582.45590446, 672.72655129, 798.51621406])\n",
    "    \n",
    "    popt, pcov = curve_fit(calc_wind_profile, z, noisy_y, sigma=sigma*np.ones(num_sensors), p0=[50., 2.])\n",
    "    unc = np.sqrt(np.diag(pcov))\n",
    "    print(popt)\n",
    "\n",
    "    plt.errorbar([popt[0], popt[0]], [popt[1], popt[1]], xerr=[unc[0], unc[0]], yerr=[unc[1], unc[1]], \n",
    "                marker='o', color='blue', alpha=0.5, lw=6)\n",
    "    \n",
    "    popt, pcov = np.polyfit(x, noisy_y, 1, w=1/sigma*np.ones(num_sensors), cov=True)\n",
    "    sigma_bm = pcov[1,0]\n",
    "    unc = np.sqrt(np.diag(pcov))\n",
    "\n",
    "    unc = [calc_analytic_sigma_slope(delta_x, sigma, num_sensors), \n",
    "           calc_analytic_sigma_intercept(delta_x, sigma, num_sensors)]\n",
    "    sigma_bm = calc_cov(x, sigma)\n",
    "\n",
    "    numerical_ustar = calc_ustar(*popt, np.min(z))\n",
    "    numerical_sigma_ustar = calc_sigma_ustar(*popt, np.min(z), *unc, sigma_bm)\n",
    "    numerical_zstar = calc_zstar(*popt, np.min(z))\n",
    "    numerical_sigma_zstar = calc_sigma_zstar(*popt, np.min(z), *unc, sigma_bm)\n",
    "    print(numerical_sigma_zstar)\n",
    "    \n",
    "    plt.errorbar([numerical_ustar, numerical_ustar], \n",
    "                 [numerical_zstar, numerical_zstar], \n",
    "                 xerr=[numerical_sigma_ustar, numerical_sigma_ustar], \n",
    "                 yerr=[numerical_sigma_zstar, numerical_sigma_zstar], \n",
    "            marker='o', color='orange', alpha=0.5)\n"
   ]
  },
  {
   "cell_type": "code",
   "execution_count": 30,
   "id": "127393c6",
   "metadata": {},
   "outputs": [
    {
     "name": "stdout",
     "output_type": "stream",
     "text": [
      "40.0 0.006737946999085467\n",
      "\n"
     ]
    },
    {
     "ename": "NameError",
     "evalue": "name 'calc_wind_profile' is not defined",
     "output_type": "error",
     "traceback": [
      "\u001b[0;31m---------------------------------------------------------------------------\u001b[0m",
      "\u001b[0;31mNameError\u001b[0m                                 Traceback (most recent call last)",
      "Input \u001b[0;32mIn [30]\u001b[0m, in \u001b[0;36m<cell line: 24>\u001b[0;34m()\u001b[0m\n\u001b[1;32m     24\u001b[0m \u001b[38;5;28;01mfor\u001b[39;00m i \u001b[38;5;129;01min\u001b[39;00m \u001b[38;5;28mrange\u001b[39m(num_tries):\n\u001b[1;32m     25\u001b[0m     noisy_y \u001b[38;5;241m=\u001b[39m y \u001b[38;5;241m+\u001b[39m normal(scale\u001b[38;5;241m=\u001b[39msigma, size\u001b[38;5;241m=\u001b[39mnum_sensors)\n\u001b[0;32m---> 27\u001b[0m     popt, pcov \u001b[38;5;241m=\u001b[39m curve_fit(\u001b[43mcalc_wind_profile\u001b[49m, z, noisy_y, sigma\u001b[38;5;241m=\u001b[39msigma, p0\u001b[38;5;241m=\u001b[39m[ustar, zstar])\n\u001b[1;32m     28\u001b[0m     unc \u001b[38;5;241m=\u001b[39m np\u001b[38;5;241m.\u001b[39msqrt(np\u001b[38;5;241m.\u001b[39mdiag(pcov))\n\u001b[1;32m     29\u001b[0m     \u001b[38;5;28mprint\u001b[39m(unc)\n",
      "\u001b[0;31mNameError\u001b[0m: name 'calc_wind_profile' is not defined"
     ]
    }
   ],
   "source": [
    "# But if I use polyfit's uncertainties, I recover ustar/zstar uncertainties that are consistent with curve_fit's.\n",
    "\n",
    "# Let's test these expressions\n",
    "num_sensors = 5\n",
    "base = 2.\n",
    "delta_x = np.log(base)\n",
    "sigma = 50.\n",
    "slope = 100.\n",
    "intercept = 500.\n",
    "kappa = 0.4\n",
    "\n",
    "z = base**(np.linspace(0, num_sensors - 1, num_sensors))\n",
    "x = np.log(z/np.min(z))\n",
    "y = np.polyval([slope, intercept], x)\n",
    "\n",
    "ustar = kappa*slope\n",
    "zstar = np.min(z)*np.exp(-intercept/slope)\n",
    "\n",
    "print(ustar, zstar)\n",
    "print()\n",
    "\n",
    "num_tries = 10\n",
    "\n",
    "for i in range(num_tries):\n",
    "    noisy_y = y + normal(scale=sigma, size=num_sensors)\n",
    "    \n",
    "    popt, pcov = curve_fit(calc_wind_profile, z, noisy_y, sigma=sigma, p0=[ustar, zstar])\n",
    "    unc = np.sqrt(np.diag(pcov))\n",
    "    print(unc)\n",
    "\n",
    "    plt.errorbar([popt[0], popt[0]], [popt[1], popt[1]], xerr=[unc[0], unc[0]], yerr=[unc[1], unc[1]], \n",
    "                marker='o', color='blue', alpha=0.5, lw=6)\n",
    "    \n",
    "    popt, pcov = np.polyfit(x, noisy_y, 1, w=1/sigma, cov=True)\n",
    "    sigma_bm = pcov[1,0]\n",
    "    unc = np.sqrt(np.diag(pcov))\n",
    "\n",
    "    numerical_ustar = calc_ustar(*popt, np.min(z))\n",
    "    numerical_zstar = calc_zstar(*popt, np.min(z))\n",
    "\n",
    "    numerical_sigma_ustar = calc_sigma_ustar(delta_x, sigma[0], num_sensors, \n",
    "                                             numerical_ustar, numerical_zstar, np.min(z))\n",
    "    numerical_sigma_zstar = calc_sigma_zstar(delta_x, sigma[0], num_sensors, \n",
    "                                             numerical_ustar, numerical_zstar, np.min(z))\n",
    "    print(numerical_sigma_ustar, numerical_sigma_zstar)\n",
    "    \n",
    "    plt.errorbar([numerical_ustar, numerical_ustar], \n",
    "                 [numerical_zstar, numerical_zstar], \n",
    "                 xerr=[numerical_sigma_ustar, numerical_sigma_ustar], \n",
    "                 yerr=[numerical_sigma_zstar, numerical_sigma_zstar], \n",
    "            marker='o', color='orange', alpha=0.5)\n"
   ]
  }
 ],
 "metadata": {
  "kernelspec": {
   "display_name": "Python 3",
   "language": "python",
   "name": "python3"
  },
  "language_info": {
   "codemirror_mode": {
    "name": "ipython",
    "version": 3
   },
   "file_extension": ".py",
   "mimetype": "text/x-python",
   "name": "python",
   "nbconvert_exporter": "python",
   "pygments_lexer": "ipython3",
   "version": "3.8.8"
  }
 },
 "nbformat": 4,
 "nbformat_minor": 5
}
