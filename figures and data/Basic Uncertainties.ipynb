{
 "cells": [
  {
   "cell_type": "markdown",
   "id": "53de69dc",
   "metadata": {},
   "source": [
    "A series of sanity checks"
   ]
  },
  {
   "cell_type": "code",
   "execution_count": 1,
   "id": "550dacc5",
   "metadata": {},
   "outputs": [],
   "source": [
    "%matplotlib inline\n",
    "import numpy as np\n",
    "import matplotlib.pyplot as plt\n",
    "from numpy.random import normal, random\n",
    "from scipy.optimize import curve_fit\n",
    "\n",
    "BoiseState_blue = '#0033A0'\n",
    "BoiseState_orange = '#D64309'\n",
    "aspect_ratio = 16./9"
   ]
  },
  {
   "cell_type": "code",
   "execution_count": 7,
   "id": "d187abb0",
   "metadata": {},
   "outputs": [],
   "source": [
    "def calc_S(sigma):\n",
    "    return np.sum(1./sigma**2)\n",
    "\n",
    "def calc_Sx(x, sigma):\n",
    "    return np.sum(x/sigma**2)\n",
    "\n",
    "def calc_Sxx(x, sigma):\n",
    "    return np.sum(x**2/sigma**2)\n",
    "\n",
    "def calc_Sy(y, sigma):\n",
    "    return np.sum(y/sigma**2)\n",
    "\n",
    "def calc_Syy(y, sigma):\n",
    "    return np.sum(y**2/sigma**2)\n",
    "\n",
    "def calc_Sxy(x, y, sigma):\n",
    "    return np.sum(x*y/sigma**2)\n",
    "\n",
    "def calc_Delta(x, sigma):\n",
    "    S = calc_S(sigma)\n",
    "    Sxx = calc_Sxx(x, sigma)\n",
    "    Sx = calc_Sx(x, sigma)\n",
    "    \n",
    "    return S*Sxx - Sx**2\n",
    "    \n",
    "def calc_cov(x, sigma):\n",
    "    return -calc_Sx(x, sigma)/calc_Delta(x, sigma)\n",
    "\n",
    "def calc_analytic_Delta(delta_x, sigma, N):  \n",
    "    return delta_x**2/12/sigma**4*N**2*(N**2 - 1)\n",
    "\n",
    "def calc_analytic_S(sigma, N):\n",
    "    return N/sigma**2\n",
    "\n",
    "def calc_analytic_Sx(delta_x, sigma, N):\n",
    "    return 0.5*delta_x/sigma**2*(N - 1)*N\n",
    "\n",
    "def calc_analytic_Sxx(delta_x, sigma, N):\n",
    "    return delta_x**2/sigma**2*(N - 1)*N*(2*N - 1)/6\n",
    "\n",
    "def calc_analytic_Delta(delta_x, sigma, N):\n",
    "    return delta_x**2/sigma**4/12*N**2*(N**2 - 1)\n",
    "\n",
    "def calc_analytic_sigma_intercept(delta_x, sigma, N):\n",
    "    return np.sqrt(2.*sigma[0]**2*(2*N - 1)/N/(N + 1))\n",
    "\n",
    "def calc_analytic_sigma_slope(delta_x, sigma, N):\n",
    "    return np.sqrt(12*sigma[0]**2/delta_x**2/N/(N**2 - 1))\n",
    "\n",
    "def sigma_intercept(x, sigma):\n",
    "    Sxx = calc_Sxx(x, sigma)\n",
    "    Delta = calc_Delta(x, sigma)\n",
    "    \n",
    "    return np.sqrt(Sxx/Delta)\n",
    "\n",
    "def sigma_slope(x, sigma):\n",
    "    S = calc_S(sigma)\n",
    "    Delta = calc_Delta(x, sigma)\n",
    "    \n",
    "    return np.sqrt(S/Delta)\n",
    "\n",
    "def lin_fit(x, m, b):\n",
    "    return m*x + b\n",
    "\n",
    "def calc_slope(x, y, sigma):\n",
    "    S = calc_S(sigma)\n",
    "    Sx = calc_Sx(x, sigma)\n",
    "\n",
    "    t = (x - Sx/S)/sigma\n",
    "    Stt = calc_Sxx(t, np.ones_like(sigma))\n",
    "        \n",
    "    return np.sum(t*y/sigma)/Stt\n",
    "    \n",
    "def calc_intercept(x, y, sigma):\n",
    "    slope = calc_slope(x, y, sigma)\n",
    "    \n",
    "    S = calc_S(sigma)\n",
    "    Sx = calc_Sx(x, sigma)\n",
    "    Sy = calc_Sy(y, sigma)\n",
    "    \n",
    "    return (Sy - Sx*slope)/S\n",
    "\n",
    "def calc_analytic_intercept(delta_x, sigma, N, x, y):\n",
    "    Sxx = calc_analytic_Sxx(delta_x, sigma[0], N)\n",
    "    Sy = calc_Sy(y, sigma)\n",
    "    Sx = calc_analytic_Sx(delta_x, sigma[0], N)\n",
    "    Sxy = calc_Sxy(x, y, sigma)\n",
    "    Delta = calc_analytic_Delta(delta_x, sigma[0], N)\n",
    "   \n",
    "    return (Sxx*Sy - Sx*Sxy)/Delta\n",
    "\n",
    "def calc_analytic_slope(delta_x, sigma, N, x, y):\n",
    "    S = calc_analytic_S(sigma[0], N)\n",
    "    Sxy = calc_Sxy(x, y, sigma)\n",
    "    Sx = calc_analytic_Sx(delta_x, sigma[0], N)\n",
    "    Sy = calc_Sy(y, sigma)\n",
    "    Delta = calc_analytic_Delta(delta_x, sigma[0], N)\n",
    "\n",
    "    return (S*Sxy - Sx*Sy)/Delta"
   ]
  },
  {
   "cell_type": "code",
   "execution_count": 19,
   "id": "0787bc13",
   "metadata": {},
   "outputs": [
    {
     "name": "stdout",
     "output_type": "stream",
     "text": [
      "499.99999999999994 499.9999999999999\n",
      "693.1471805599451 693.1471805599451\n",
      "1441.3590417546038 1441.359041754604\n",
      "240226.50695910066 240226.50695910066\n"
     ]
    }
   ],
   "source": [
    "# With sigma = 1, Sx/n should be the average value of x.\n",
    "print(calc_S(sigma), calc_analytic_S(sigma[0], num_sensors))\n",
    "print(calc_Sx(x, sigma), calc_analytic_Sx(delta_x, sigma[0], num_sensors))\n",
    "# print(calc_Sy(y, sigma)/len(y), np.mean(y)) # There is no analytic Sy!\n",
    "print(calc_Sxx(x, sigma), calc_analytic_Sxx(delta_x, sigma[0], num_sensors))\n",
    "# print(calc_Syy(y, 1.)/len(y), np.mean(y**2))\n",
    "# print(calc_Sxy(x, y, 1.)/len(x), np.mean(x*y))\n",
    "print(calc_Delta(x, sigma), calc_analytic_Delta(delta_x, sigma[0], num_sensors))"
   ]
  },
  {
   "cell_type": "code",
   "execution_count": 19,
   "id": "44ad841d",
   "metadata": {},
   "outputs": [
    {
     "name": "stdout",
     "output_type": "stream",
     "text": [
      "[0.03673491 0.06237062]\n"
     ]
    },
    {
     "ename": "IndexError",
     "evalue": "invalid index to scalar variable.",
     "output_type": "error",
     "traceback": [
      "\u001b[0;31m---------------------------------------------------------------------------\u001b[0m",
      "\u001b[0;31mIndexError\u001b[0m                                Traceback (most recent call last)",
      "Input \u001b[0;32mIn [19]\u001b[0m, in \u001b[0;36m<cell line: 15>\u001b[0;34m()\u001b[0m\n\u001b[1;32m     20\u001b[0m \u001b[38;5;28mprint\u001b[39m(unc)\n\u001b[1;32m     22\u001b[0m plt\u001b[38;5;241m.\u001b[39merrorbar([popt[\u001b[38;5;241m0\u001b[39m], popt[\u001b[38;5;241m0\u001b[39m]], [popt[\u001b[38;5;241m1\u001b[39m], popt[\u001b[38;5;241m1\u001b[39m]], xerr\u001b[38;5;241m=\u001b[39m[unc[\u001b[38;5;241m0\u001b[39m], unc[\u001b[38;5;241m0\u001b[39m]], yerr\u001b[38;5;241m=\u001b[39m[unc[\u001b[38;5;241m1\u001b[39m], unc[\u001b[38;5;241m1\u001b[39m]], \n\u001b[1;32m     23\u001b[0m         marker\u001b[38;5;241m=\u001b[39m\u001b[38;5;124m'\u001b[39m\u001b[38;5;124mo\u001b[39m\u001b[38;5;124m'\u001b[39m, color\u001b[38;5;241m=\u001b[39m\u001b[38;5;124m'\u001b[39m\u001b[38;5;124mblue\u001b[39m\u001b[38;5;124m'\u001b[39m, alpha\u001b[38;5;241m=\u001b[39m\u001b[38;5;241m0.5\u001b[39m, lw\u001b[38;5;241m=\u001b[39m\u001b[38;5;241m6\u001b[39m)\n\u001b[0;32m---> 25\u001b[0m analytic_slope \u001b[38;5;241m=\u001b[39m \u001b[43mcalc_analytic_slope\u001b[49m\u001b[43m(\u001b[49m\u001b[43mdelta_x\u001b[49m\u001b[43m,\u001b[49m\u001b[43m \u001b[49m\u001b[43msigma\u001b[49m\u001b[43m[\u001b[49m\u001b[38;5;241;43m0\u001b[39;49m\u001b[43m]\u001b[49m\u001b[43m,\u001b[49m\u001b[43m \u001b[49m\u001b[43mnum_sensors\u001b[49m\u001b[43m,\u001b[49m\u001b[43m \u001b[49m\u001b[43mx\u001b[49m\u001b[43m,\u001b[49m\u001b[43m \u001b[49m\u001b[43mnoisy_y\u001b[49m\u001b[43m)\u001b[49m\n\u001b[1;32m     26\u001b[0m analytic_sigma_slope \u001b[38;5;241m=\u001b[39m calc_analytic_sigma_slope(delta_x, sigma[\u001b[38;5;241m0\u001b[39m], num_sensors)\n\u001b[1;32m     27\u001b[0m analytic_intercept \u001b[38;5;241m=\u001b[39m calc_analytic_intercept(delta_x, sigma[\u001b[38;5;241m0\u001b[39m], num_sensors, x, noisy_y)\n",
      "Input \u001b[0;32mIn [7]\u001b[0m, in \u001b[0;36mcalc_analytic_slope\u001b[0;34m(delta_x, sigma, N, x, y)\u001b[0m\n\u001b[1;32m     92\u001b[0m \u001b[38;5;28;01mdef\u001b[39;00m \u001b[38;5;21mcalc_analytic_slope\u001b[39m(delta_x, sigma, N, x, y):\n\u001b[0;32m---> 93\u001b[0m     S \u001b[38;5;241m=\u001b[39m calc_analytic_S(\u001b[43msigma\u001b[49m\u001b[43m[\u001b[49m\u001b[38;5;241;43m0\u001b[39;49m\u001b[43m]\u001b[49m, N)\n\u001b[1;32m     94\u001b[0m     Sxy \u001b[38;5;241m=\u001b[39m calc_Sxy(x, y, sigma)\n\u001b[1;32m     95\u001b[0m     Sx \u001b[38;5;241m=\u001b[39m calc_analytic_Sx(delta_x, sigma[\u001b[38;5;241m0\u001b[39m], N)\n",
      "\u001b[0;31mIndexError\u001b[0m: invalid index to scalar variable."
     ]
    },
    {
     "data": {
      "image/png": "[encoded data removed]",
      "text/plain": [
       "<Figure size 432x288 with 1 Axes>"
      ]
     },
     "metadata": {
      "needs_background": "light"
     },
     "output_type": "display_data"
    }
   ],
   "source": [
    "# Let's test these expressions\n",
    "num_sensors = 5\n",
    "base = 2.\n",
    "delta_x = np.log(base)\n",
    "sigma = 0.1*np.ones(num_sensors)\n",
    "slope = 10.\n",
    "intercept = 1.\n",
    "\n",
    "num_tries = 10\n",
    "\n",
    "z = base**(np.linspace(0, num_sensors - 1, num_sensors))\n",
    "x = np.log(z/np.min(z))\n",
    "y = np.polyval([slope, intercept], x)\n",
    "\n",
    "for i in range(num_tries):\n",
    "    noisy_y = y + normal(scale=sigma[0], size=num_sensors)\n",
    "\n",
    "    popt, pcov = np.polyfit(x, noisy_y, 1, w=1/sigma, cov=True)\n",
    "    unc = np.sqrt(np.diag(pcov))\n",
    "    print(unc)\n",
    "    \n",
    "    plt.errorbar([popt[0], popt[0]], [popt[1], popt[1]], xerr=[unc[0], unc[0]], yerr=[unc[1], unc[1]], \n",
    "            marker='o', color='blue', alpha=0.5, lw=6)\n",
    "       \n",
    "    analytic_slope = calc_analytic_slope(delta_x, sigma, num_sensors, x, noisy_y)\n",
    "    analytic_sigma_slope = calc_analytic_sigma_slope(delta_x, sigma, num_sensors)\n",
    "    analytic_intercept = calc_analytic_intercept(delta_x, sigma, num_sensors, x, noisy_y)\n",
    "    analytic_sigma_intercept = calc_analytic_sigma_intercept(delta_x, sigma, num_sensors)\n",
    "\n",
    "    print(analytic_sigma_slope, analytic_sigma_intercept)\n",
    "    \n",
    "    plt.errorbar([analytic_slope, analytic_slope], \n",
    "                 [analytic_intercept, analytic_intercept], \n",
    "                 xerr=[analytic_sigma_slope, analytic_sigma_slope], \n",
    "                 yerr=[analytic_sigma_intercept, analytic_sigma_intercept], \n",
    "            marker='.', color='orange', alpha=0.5)\n",
    "\n",
    "#     plt.errorbar([analytic_slope, analytic_slope], \n",
    "#                  [analytic_intercept, analytic_intercept], \n",
    "#             marker='.', color='orange', alpha=0.5)\n",
    "\n",
    "# analytic_slope = calc_analytic_slope(delta_x, sigma, num_sensors, x, noisy_y)\n",
    "# analytic_slope_sigma = calc_analytic_sigma_slope(delta_x, sigma, num_sensors)\n",
    "# analytic_intercept = calc_analytic_intercept(delta_x, sigma, num_sensors, x, noisy_y)\n",
    "# analytic_intercept_sigma = calc_analytic_sigma_intercept(delta_x, sigma, num_sensors)\n",
    "\n",
    "# Sxx = calc_analytic_Sxx(delta_x, sigma[0], num_sensors)\n",
    "# Delta = calc_analytic_Delta(delta_x, sigma[0], num_sensors)\n",
    "\n",
    "# plt.fill_between([analytic_slope - analytic_slope_sigma, analytic_slope + analytic_slope_sigma], \n",
    "#                  [analytic_intercept - analytic_intercept_sigma, analytic_intercept - analytic_intercept_sigma],\n",
    "#                  [analytic_intercept + analytic_intercept_sigma, analytic_intercept + analytic_intercept_sigma],\n",
    "#                 alpha=0.5)\n",
    "\n",
    "# numerical_slope = calc_slope(x, noisy_y, sigma)\n",
    "# numerical_slope_sigma = sigma_slope(x, sigma)\n",
    "# numerical_intercept = calc_intercept(x, noisy_y, sigma)\n",
    "# numerical_intercept_sigma = sigma_intercept(x, sigma)\n",
    "\n",
    "# plt.fill_between([numerical_slope - numerical_slope_sigma, numerical_slope + numerical_slope_sigma], \n",
    "#                  [numerical_intercept - numerical_intercept_sigma, numerical_intercept - numerical_intercept_sigma],\n",
    "#                  [numerical_intercept + numerical_intercept_sigma, numerical_intercept + numerical_intercept_sigma],\n",
    "#                 alpha=0.5)"
   ]
  },
  {
   "cell_type": "markdown",
   "id": "460d921e",
   "metadata": {},
   "source": [
    "$$\n",
    "m = \\frac{u_\\star}{\\kappa}\\\\\n",
    "b = -\\frac{u_\\star}{\\kappa} \\ln \\left( \\frac{z_0}{z_\\star} \\right) = -m \\ln \\left( \\frac{z_0}{z_\\star} \\right)\n",
    "$$"
   ]
  },
  {
   "cell_type": "markdown",
   "id": "31e18c9c",
   "metadata": {},
   "source": [
    "$$\n",
    "\\sigma_{z_\\star} = z_\\star \\frac{b}{m} \\sqrt{ \\left( \\frac{\\sigma_m}{m} \\right)^2 + \\left( \\frac{\\sigma_m}{b} \\right)^2 - 2\\left( \\frac{\\sigma_{bm}}{bm} \\right) }\n",
    "$$"
   ]
  },
  {
   "cell_type": "code",
   "execution_count": 15,
   "id": "987e33f2",
   "metadata": {},
   "outputs": [],
   "source": [
    "def calc_analytic_sigma_intercept(delta_x, sigma, N):\n",
    "    return np.sqrt(2.*sigma**2*(2*N - 1)/N/(N + 1))\n",
    "\n",
    "def calc_analytic_sigma_slope(delta_x, sigma, N):\n",
    "    return np.sqrt(12*sigma**2/delta_x**2/N/(N**2 - 1))\n",
    "\n",
    "def calc_sigma_slope_intercept(delta_x, sigma, N):\n",
    "    return 6*sigma[0]**2/N/(N + 1)/delta_x\n",
    "\n",
    "def calc_sigma_intercept_slope(delta_x, sigma, N):\n",
    "    return 6*sigma**2/N/(N + 1)/delta_x\n",
    "\n",
    "def calc_sigma_ustar(delta_x, sigma, N, ustar, zstar, z0, kappa=0.4):\n",
    "    m = calc_slope_from_star(ustar, zstar, z0, kappa=kappa)\n",
    "    sigma_m = calc_analytic_sigma_slope(delta_x, sigma, N)\n",
    "    \n",
    "    return ustar/m*sigma_m\n",
    "\n",
    "def calc_sigma_zstar(delta_x, sigma, N, ustar, zstar, z0, kappa=0.4):\n",
    "    m = calc_slope_from_star(ustar, zstar, z0, kappa=kappa)\n",
    "    b = calc_intercept_from_star(ustar, zstar, z0, kappa=kappa)\n",
    "    \n",
    "    sigma_m = calc_analytic_sigma_slope(delta_x, sigma, N)\n",
    "    sigma_b = calc_analytic_sigma_intercept(delta_x, sigma, N)\n",
    "    sigma_bm = calc_sigma_intercept_slope(delta_x, sigma, N)\n",
    "    \n",
    "    return zstar*np.abs(b/m)*np.sqrt((sigma_m/m)**2 + (sigma_b/b)**2 - 2*sigma_bm/b/m)\n",
    "\n",
    "def calc_num_points(sample_time, sampling):\n",
    "    return np.floor(sample_time/sampling)\n",
    "\n",
    "def calc_slope_from_star(ustar, zstar, z0, kappa=0.4):\n",
    "    return ustar/kappa\n",
    "\n",
    "def calc_intercept_from_star(ustar, zstar, z0, kappa=0.4):\n",
    "    return -ustar/kappa*np.log(z0/zstar)\n",
    "\n",
    "def calc_wind_profile(z, ustar, zstar, kappa=0.4):\n",
    "    return ustar/kappa*np.log(z/zstar)"
   ]
  },
  {
   "cell_type": "code",
   "execution_count": 17,
   "id": "a0dd6dbd",
   "metadata": {},
   "outputs": [
    {
     "name": "stdout",
     "output_type": "stream",
     "text": [
      "4.0 0.9048374180359595\n",
      "\n"
     ]
    },
    {
     "name": "stderr",
     "output_type": "stream",
     "text": [
      "/var/folders/gh/h5y326mn4jn844lcv0wlxs9c0000gp/T/ipykernel_16870/839944134.py:5: RuntimeWarning: divide by zero encountered in double_scalars\n",
      "  return np.sqrt(12*sigma**2/delta_x**2/N/(N**2 - 1))\n",
      "/var/folders/gh/h5y326mn4jn844lcv0wlxs9c0000gp/T/ipykernel_16870/839944134.py:36: RuntimeWarning: invalid value encountered in log\n",
      "  return -ustar/kappa*np.log(z0/zstar)\n"
     ]
    },
    {
     "ename": "ValueError",
     "evalue": "'xerr' (shape: (2, 5)) must be a scalar or a 1D or (2, n) array-like whose shape matches 'x' (shape: (2,))",
     "output_type": "error",
     "traceback": [
      "\u001b[0;31m---------------------------------------------------------------------------\u001b[0m",
      "\u001b[0;31mValueError\u001b[0m                                Traceback (most recent call last)",
      "Input \u001b[0;32mIn [17]\u001b[0m, in \u001b[0;36m<cell line: 22>\u001b[0;34m()\u001b[0m\n\u001b[1;32m     41\u001b[0m numerical_zstar \u001b[38;5;241m=\u001b[39m calc_zstar(\u001b[38;5;241m*\u001b[39mpopt, np\u001b[38;5;241m.\u001b[39mmin(z))\n\u001b[1;32m     42\u001b[0m numerical_sigma_zstar \u001b[38;5;241m=\u001b[39m calc_sigma_zstar(\u001b[38;5;241m*\u001b[39mpopt, np\u001b[38;5;241m.\u001b[39mmin(z), \u001b[38;5;241m*\u001b[39munc, sigma_bm)\n\u001b[0;32m---> 44\u001b[0m \u001b[43mplt\u001b[49m\u001b[38;5;241;43m.\u001b[39;49m\u001b[43merrorbar\u001b[49m\u001b[43m(\u001b[49m\u001b[43m[\u001b[49m\u001b[43mnumerical_ustar\u001b[49m\u001b[43m,\u001b[49m\u001b[43m \u001b[49m\u001b[43mnumerical_ustar\u001b[49m\u001b[43m]\u001b[49m\u001b[43m,\u001b[49m\u001b[43m \u001b[49m\n\u001b[1;32m     45\u001b[0m \u001b[43m             \u001b[49m\u001b[43m[\u001b[49m\u001b[43mnumerical_zstar\u001b[49m\u001b[43m,\u001b[49m\u001b[43m \u001b[49m\u001b[43mnumerical_zstar\u001b[49m\u001b[43m]\u001b[49m\u001b[43m,\u001b[49m\u001b[43m \u001b[49m\n\u001b[1;32m     46\u001b[0m \u001b[43m             \u001b[49m\u001b[43mxerr\u001b[49m\u001b[38;5;241;43m=\u001b[39;49m\u001b[43m[\u001b[49m\u001b[43mnumerical_sigma_ustar\u001b[49m\u001b[43m,\u001b[49m\u001b[43m \u001b[49m\u001b[43mnumerical_sigma_ustar\u001b[49m\u001b[43m]\u001b[49m\u001b[43m,\u001b[49m\u001b[43m \u001b[49m\n\u001b[1;32m     47\u001b[0m \u001b[43m             \u001b[49m\u001b[43myerr\u001b[49m\u001b[38;5;241;43m=\u001b[39;49m\u001b[43m[\u001b[49m\u001b[43mnumerical_sigma_zstar\u001b[49m\u001b[43m,\u001b[49m\u001b[43m \u001b[49m\u001b[43mnumerical_sigma_zstar\u001b[49m\u001b[43m]\u001b[49m\u001b[43m,\u001b[49m\u001b[43m \u001b[49m\n\u001b[1;32m     48\u001b[0m \u001b[43m        \u001b[49m\u001b[43mmarker\u001b[49m\u001b[38;5;241;43m=\u001b[39;49m\u001b[38;5;124;43m'\u001b[39;49m\u001b[38;5;124;43mo\u001b[39;49m\u001b[38;5;124;43m'\u001b[39;49m\u001b[43m,\u001b[49m\u001b[43m \u001b[49m\u001b[43mcolor\u001b[49m\u001b[38;5;241;43m=\u001b[39;49m\u001b[38;5;124;43m'\u001b[39;49m\u001b[38;5;124;43morange\u001b[39;49m\u001b[38;5;124;43m'\u001b[39;49m\u001b[43m,\u001b[49m\u001b[43m \u001b[49m\u001b[43malpha\u001b[49m\u001b[38;5;241;43m=\u001b[39;49m\u001b[38;5;241;43m0.5\u001b[39;49m\u001b[43m)\u001b[49m\n",
      "File \u001b[0;32m~/opt/anaconda3/lib/python3.8/site-packages/matplotlib/pyplot.py:2509\u001b[0m, in \u001b[0;36merrorbar\u001b[0;34m(x, y, yerr, xerr, fmt, ecolor, elinewidth, capsize, barsabove, lolims, uplims, xlolims, xuplims, errorevery, capthick, data, **kwargs)\u001b[0m\n\u001b[1;32m   2503\u001b[0m \u001b[38;5;129m@_copy_docstring_and_deprecators\u001b[39m(Axes\u001b[38;5;241m.\u001b[39merrorbar)\n\u001b[1;32m   2504\u001b[0m \u001b[38;5;28;01mdef\u001b[39;00m \u001b[38;5;21merrorbar\u001b[39m(\n\u001b[1;32m   2505\u001b[0m         x, y, yerr\u001b[38;5;241m=\u001b[39m\u001b[38;5;28;01mNone\u001b[39;00m, xerr\u001b[38;5;241m=\u001b[39m\u001b[38;5;28;01mNone\u001b[39;00m, fmt\u001b[38;5;241m=\u001b[39m\u001b[38;5;124m'\u001b[39m\u001b[38;5;124m'\u001b[39m, ecolor\u001b[38;5;241m=\u001b[39m\u001b[38;5;28;01mNone\u001b[39;00m,\n\u001b[1;32m   2506\u001b[0m         elinewidth\u001b[38;5;241m=\u001b[39m\u001b[38;5;28;01mNone\u001b[39;00m, capsize\u001b[38;5;241m=\u001b[39m\u001b[38;5;28;01mNone\u001b[39;00m, barsabove\u001b[38;5;241m=\u001b[39m\u001b[38;5;28;01mFalse\u001b[39;00m, lolims\u001b[38;5;241m=\u001b[39m\u001b[38;5;28;01mFalse\u001b[39;00m,\n\u001b[1;32m   2507\u001b[0m         uplims\u001b[38;5;241m=\u001b[39m\u001b[38;5;28;01mFalse\u001b[39;00m, xlolims\u001b[38;5;241m=\u001b[39m\u001b[38;5;28;01mFalse\u001b[39;00m, xuplims\u001b[38;5;241m=\u001b[39m\u001b[38;5;28;01mFalse\u001b[39;00m, errorevery\u001b[38;5;241m=\u001b[39m\u001b[38;5;241m1\u001b[39m,\n\u001b[1;32m   2508\u001b[0m         capthick\u001b[38;5;241m=\u001b[39m\u001b[38;5;28;01mNone\u001b[39;00m, \u001b[38;5;241m*\u001b[39m, data\u001b[38;5;241m=\u001b[39m\u001b[38;5;28;01mNone\u001b[39;00m, \u001b[38;5;241m*\u001b[39m\u001b[38;5;241m*\u001b[39mkwargs):\n\u001b[0;32m-> 2509\u001b[0m     \u001b[38;5;28;01mreturn\u001b[39;00m \u001b[43mgca\u001b[49m\u001b[43m(\u001b[49m\u001b[43m)\u001b[49m\u001b[38;5;241;43m.\u001b[39;49m\u001b[43merrorbar\u001b[49m\u001b[43m(\u001b[49m\n\u001b[1;32m   2510\u001b[0m \u001b[43m        \u001b[49m\u001b[43mx\u001b[49m\u001b[43m,\u001b[49m\u001b[43m \u001b[49m\u001b[43my\u001b[49m\u001b[43m,\u001b[49m\u001b[43m \u001b[49m\u001b[43myerr\u001b[49m\u001b[38;5;241;43m=\u001b[39;49m\u001b[43myerr\u001b[49m\u001b[43m,\u001b[49m\u001b[43m \u001b[49m\u001b[43mxerr\u001b[49m\u001b[38;5;241;43m=\u001b[39;49m\u001b[43mxerr\u001b[49m\u001b[43m,\u001b[49m\u001b[43m \u001b[49m\u001b[43mfmt\u001b[49m\u001b[38;5;241;43m=\u001b[39;49m\u001b[43mfmt\u001b[49m\u001b[43m,\u001b[49m\u001b[43m \u001b[49m\u001b[43mecolor\u001b[49m\u001b[38;5;241;43m=\u001b[39;49m\u001b[43mecolor\u001b[49m\u001b[43m,\u001b[49m\n\u001b[1;32m   2511\u001b[0m \u001b[43m        \u001b[49m\u001b[43melinewidth\u001b[49m\u001b[38;5;241;43m=\u001b[39;49m\u001b[43melinewidth\u001b[49m\u001b[43m,\u001b[49m\u001b[43m \u001b[49m\u001b[43mcapsize\u001b[49m\u001b[38;5;241;43m=\u001b[39;49m\u001b[43mcapsize\u001b[49m\u001b[43m,\u001b[49m\u001b[43m \u001b[49m\u001b[43mbarsabove\u001b[49m\u001b[38;5;241;43m=\u001b[39;49m\u001b[43mbarsabove\u001b[49m\u001b[43m,\u001b[49m\n\u001b[1;32m   2512\u001b[0m \u001b[43m        \u001b[49m\u001b[43mlolims\u001b[49m\u001b[38;5;241;43m=\u001b[39;49m\u001b[43mlolims\u001b[49m\u001b[43m,\u001b[49m\u001b[43m \u001b[49m\u001b[43muplims\u001b[49m\u001b[38;5;241;43m=\u001b[39;49m\u001b[43muplims\u001b[49m\u001b[43m,\u001b[49m\u001b[43m \u001b[49m\u001b[43mxlolims\u001b[49m\u001b[38;5;241;43m=\u001b[39;49m\u001b[43mxlolims\u001b[49m\u001b[43m,\u001b[49m\n\u001b[1;32m   2513\u001b[0m \u001b[43m        \u001b[49m\u001b[43mxuplims\u001b[49m\u001b[38;5;241;43m=\u001b[39;49m\u001b[43mxuplims\u001b[49m\u001b[43m,\u001b[49m\u001b[43m \u001b[49m\u001b[43merrorevery\u001b[49m\u001b[38;5;241;43m=\u001b[39;49m\u001b[43merrorevery\u001b[49m\u001b[43m,\u001b[49m\u001b[43m \u001b[49m\u001b[43mcapthick\u001b[49m\u001b[38;5;241;43m=\u001b[39;49m\u001b[43mcapthick\u001b[49m\u001b[43m,\u001b[49m\n\u001b[1;32m   2514\u001b[0m \u001b[43m        \u001b[49m\u001b[38;5;241;43m*\u001b[39;49m\u001b[38;5;241;43m*\u001b[39;49m\u001b[43m(\u001b[49m\u001b[43m{\u001b[49m\u001b[38;5;124;43m\"\u001b[39;49m\u001b[38;5;124;43mdata\u001b[39;49m\u001b[38;5;124;43m\"\u001b[39;49m\u001b[43m:\u001b[49m\u001b[43m \u001b[49m\u001b[43mdata\u001b[49m\u001b[43m}\u001b[49m\u001b[43m \u001b[49m\u001b[38;5;28;43;01mif\u001b[39;49;00m\u001b[43m \u001b[49m\u001b[43mdata\u001b[49m\u001b[43m \u001b[49m\u001b[38;5;129;43;01mis\u001b[39;49;00m\u001b[43m \u001b[49m\u001b[38;5;129;43;01mnot\u001b[39;49;00m\u001b[43m \u001b[49m\u001b[38;5;28;43;01mNone\u001b[39;49;00m\u001b[43m \u001b[49m\u001b[38;5;28;43;01melse\u001b[39;49;00m\u001b[43m \u001b[49m\u001b[43m{\u001b[49m\u001b[43m}\u001b[49m\u001b[43m)\u001b[49m\u001b[43m,\u001b[49m\u001b[43m \u001b[49m\u001b[38;5;241;43m*\u001b[39;49m\u001b[38;5;241;43m*\u001b[39;49m\u001b[43mkwargs\u001b[49m\u001b[43m)\u001b[49m\n",
      "File \u001b[0;32m~/opt/anaconda3/lib/python3.8/site-packages/matplotlib/__init__.py:1412\u001b[0m, in \u001b[0;36m_preprocess_data.<locals>.inner\u001b[0;34m(ax, data, *args, **kwargs)\u001b[0m\n\u001b[1;32m   1409\u001b[0m \u001b[38;5;129m@functools\u001b[39m\u001b[38;5;241m.\u001b[39mwraps(func)\n\u001b[1;32m   1410\u001b[0m \u001b[38;5;28;01mdef\u001b[39;00m \u001b[38;5;21minner\u001b[39m(ax, \u001b[38;5;241m*\u001b[39margs, data\u001b[38;5;241m=\u001b[39m\u001b[38;5;28;01mNone\u001b[39;00m, \u001b[38;5;241m*\u001b[39m\u001b[38;5;241m*\u001b[39mkwargs):\n\u001b[1;32m   1411\u001b[0m     \u001b[38;5;28;01mif\u001b[39;00m data \u001b[38;5;129;01mis\u001b[39;00m \u001b[38;5;28;01mNone\u001b[39;00m:\n\u001b[0;32m-> 1412\u001b[0m         \u001b[38;5;28;01mreturn\u001b[39;00m \u001b[43mfunc\u001b[49m\u001b[43m(\u001b[49m\u001b[43max\u001b[49m\u001b[43m,\u001b[49m\u001b[43m \u001b[49m\u001b[38;5;241;43m*\u001b[39;49m\u001b[38;5;28;43mmap\u001b[39;49m\u001b[43m(\u001b[49m\u001b[43msanitize_sequence\u001b[49m\u001b[43m,\u001b[49m\u001b[43m \u001b[49m\u001b[43margs\u001b[49m\u001b[43m)\u001b[49m\u001b[43m,\u001b[49m\u001b[43m \u001b[49m\u001b[38;5;241;43m*\u001b[39;49m\u001b[38;5;241;43m*\u001b[39;49m\u001b[43mkwargs\u001b[49m\u001b[43m)\u001b[49m\n\u001b[1;32m   1414\u001b[0m     bound \u001b[38;5;241m=\u001b[39m new_sig\u001b[38;5;241m.\u001b[39mbind(ax, \u001b[38;5;241m*\u001b[39margs, \u001b[38;5;241m*\u001b[39m\u001b[38;5;241m*\u001b[39mkwargs)\n\u001b[1;32m   1415\u001b[0m     auto_label \u001b[38;5;241m=\u001b[39m (bound\u001b[38;5;241m.\u001b[39marguments\u001b[38;5;241m.\u001b[39mget(label_namer)\n\u001b[1;32m   1416\u001b[0m                   \u001b[38;5;129;01mor\u001b[39;00m bound\u001b[38;5;241m.\u001b[39mkwargs\u001b[38;5;241m.\u001b[39mget(label_namer))\n",
      "File \u001b[0;32m~/opt/anaconda3/lib/python3.8/site-packages/matplotlib/axes/_axes.py:3457\u001b[0m, in \u001b[0;36mAxes.errorbar\u001b[0;34m(self, x, y, yerr, xerr, fmt, ecolor, elinewidth, capsize, barsabove, lolims, uplims, xlolims, xuplims, errorevery, capthick, **kwargs)\u001b[0m\n\u001b[1;32m   3455\u001b[0m     np\u001b[38;5;241m.\u001b[39mbroadcast_to(err, (\u001b[38;5;241m2\u001b[39m, \u001b[38;5;28mlen\u001b[39m(dep)))\n\u001b[1;32m   3456\u001b[0m \u001b[38;5;28;01mexcept\u001b[39;00m \u001b[38;5;167;01mValueError\u001b[39;00m:\n\u001b[0;32m-> 3457\u001b[0m     \u001b[38;5;28;01mraise\u001b[39;00m \u001b[38;5;167;01mValueError\u001b[39;00m(\n\u001b[1;32m   3458\u001b[0m         \u001b[38;5;124mf\u001b[39m\u001b[38;5;124m\"\u001b[39m\u001b[38;5;124m'\u001b[39m\u001b[38;5;132;01m{\u001b[39;00mdep_axis\u001b[38;5;132;01m}\u001b[39;00m\u001b[38;5;124merr\u001b[39m\u001b[38;5;124m'\u001b[39m\u001b[38;5;124m (shape: \u001b[39m\u001b[38;5;132;01m{\u001b[39;00mnp\u001b[38;5;241m.\u001b[39mshape(err)\u001b[38;5;132;01m}\u001b[39;00m\u001b[38;5;124m) must be a \u001b[39m\u001b[38;5;124m\"\u001b[39m\n\u001b[1;32m   3459\u001b[0m         \u001b[38;5;124mf\u001b[39m\u001b[38;5;124m\"\u001b[39m\u001b[38;5;124mscalar or a 1D or (2, n) array-like whose shape matches \u001b[39m\u001b[38;5;124m\"\u001b[39m\n\u001b[1;32m   3460\u001b[0m         \u001b[38;5;124mf\u001b[39m\u001b[38;5;124m\"\u001b[39m\u001b[38;5;124m'\u001b[39m\u001b[38;5;132;01m{\u001b[39;00mdep_axis\u001b[38;5;132;01m}\u001b[39;00m\u001b[38;5;124m'\u001b[39m\u001b[38;5;124m (shape: \u001b[39m\u001b[38;5;132;01m{\u001b[39;00mnp\u001b[38;5;241m.\u001b[39mshape(dep)\u001b[38;5;132;01m}\u001b[39;00m\u001b[38;5;124m)\u001b[39m\u001b[38;5;124m\"\u001b[39m) \u001b[38;5;28;01mfrom\u001b[39;00m \u001b[38;5;28mNone\u001b[39m\n\u001b[1;32m   3461\u001b[0m \u001b[38;5;66;03m# This is like\u001b[39;00m\n\u001b[1;32m   3462\u001b[0m \u001b[38;5;66;03m#     elow, ehigh = np.broadcast_to(...)\u001b[39;00m\n\u001b[1;32m   3463\u001b[0m \u001b[38;5;66;03m#     return dep - elow * ~lolims, dep + ehigh * ~uplims\u001b[39;00m\n\u001b[1;32m   3464\u001b[0m \u001b[38;5;66;03m# except that broadcast_to would strip units.\u001b[39;00m\n\u001b[1;32m   3465\u001b[0m low, high \u001b[38;5;241m=\u001b[39m dep \u001b[38;5;241m+\u001b[39m np\u001b[38;5;241m.\u001b[39mrow_stack([\u001b[38;5;241m-\u001b[39m(\u001b[38;5;241m1\u001b[39m \u001b[38;5;241m-\u001b[39m lolims), \u001b[38;5;241m1\u001b[39m \u001b[38;5;241m-\u001b[39m uplims]) \u001b[38;5;241m*\u001b[39m err\n",
      "\u001b[0;31mValueError\u001b[0m: 'xerr' (shape: (2, 5)) must be a scalar or a 1D or (2, n) array-like whose shape matches 'x' (shape: (2,))"
     ]
    },
    {
     "data": {
      "image/png": "[encoded data removed]",
      "text/plain": [
       "<Figure size 432x288 with 1 Axes>"
      ]
     },
     "metadata": {
      "needs_background": "light"
     },
     "output_type": "display_data"
    }
   ],
   "source": [
    "# Let's test these expressions\n",
    "num_sensors = 5\n",
    "base = 2.\n",
    "delta_x = np.log(base)\n",
    "sigma = 0.1*np.ones(num_sensors)\n",
    "slope = 10.\n",
    "intercept = 1.\n",
    "kappa = 0.4\n",
    "\n",
    "z = base**(np.linspace(0, num_sensors - 1, num_sensors))\n",
    "x = np.log(z/np.min(z))\n",
    "y = np.polyval([slope, intercept], x)\n",
    "\n",
    "ustar = kappa*slope\n",
    "zstar = np.min(z)*np.exp(-intercept/slope)\n",
    "\n",
    "print(ustar, zstar)\n",
    "print()\n",
    "\n",
    "num_tries = 30\n",
    "\n",
    "for i in range(num_tries):\n",
    "    noisy_y = y + normal(scale=sigma[0], size=num_sensors)\n",
    "    \n",
    "    popt, pcov = curve_fit(calc_wind_profile, z, noisy_y, sigma=sigma, p0=[ustar, zstar])\n",
    "    unc = np.sqrt(np.diag(pcov))\n",
    "\n",
    "    plt.errorbar([popt[0], popt[0]], [popt[1], popt[1]], xerr=[unc[0], unc[0]], yerr=[unc[1], unc[1]], \n",
    "                marker='o', color='blue', alpha=0.5, lw=6)\n",
    "    \n",
    "    popt, pcov = np.polyfit(x, noisy_y, 1, w=1/sigma, cov=True)\n",
    "#     sigma_bm = pcov[1,0]\n",
    "#     unc = np.sqrt(np.diag(pcov))\n",
    "\n",
    "    unc = [calc_analytic_sigma_slope(delta_x, sigma, num_sensors), \n",
    "           calc_analytic_sigma_intercept(delta_x, sigma, num_sensors)]\n",
    "    sigma_bm = calc_cov(x, sigma)\n",
    "\n",
    "    numerical_ustar = calc_ustar(*popt, np.min(z))\n",
    "    numerical_sigma_ustar = calc_sigma_ustar(*popt, np.min(z), *unc, sigma_bm)\n",
    "    numerical_zstar = calc_zstar(*popt, np.min(z))\n",
    "    numerical_sigma_zstar = calc_sigma_zstar(*popt, np.min(z), *unc, sigma_bm)\n",
    "    \n",
    "    plt.errorbar([numerical_ustar, numerical_ustar], \n",
    "                 [numerical_zstar, numerical_zstar], \n",
    "                 xerr=[numerical_sigma_ustar, numerical_sigma_ustar], \n",
    "                 yerr=[numerical_sigma_zstar, numerical_sigma_zstar], \n",
    "            marker='o', color='orange', alpha=0.5)\n"
   ]
  },
  {
   "cell_type": "code",
   "execution_count": 16,
   "id": "127393c6",
   "metadata": {},
   "outputs": [
    {
     "name": "stdout",
     "output_type": "stream",
     "text": [
      "4.0 0.9048374180359595\n",
      "\n",
      "[0.01999711 0.00802181]\n",
      "0.01824880919295551 0.00732048144689217\n",
      "[0.01167441 0.00470437]\n",
      "0.018248809192955507 0.007353619842139579\n",
      "[0.0143454  0.00577453]\n",
      "0.018248809192955507 0.007345793273620892\n",
      "[0.02180889 0.00878455]\n",
      "0.018248809192955507 0.0073505622873526995\n",
      "[0.02284271 0.0092099 ]\n",
      "0.018248809192955507 0.0073576938337850195\n",
      "[0.00502923 0.00203102]\n",
      "0.018248809192955507 0.007369648293069169\n",
      "[0.01649513 0.00664983]\n",
      "0.018248809192955507 0.0073568076415355555\n",
      "[0.01880859 0.00761535]\n",
      "0.018248809192955507 0.007388704596807816\n",
      "[0.01103504 0.0044438 ]\n",
      "0.018248809192955507 0.0073487745436629694\n",
      "[0.02710943 0.01085613]\n",
      "0.01824880919295551 0.0073078417409930705\n"
     ]
    },
    {
     "data": {
      "image/png": "[encoded data removed]",
      "text/plain": [
       "<Figure size 432x288 with 1 Axes>"
      ]
     },
     "metadata": {
      "needs_background": "light"
     },
     "output_type": "display_data"
    }
   ],
   "source": [
    "# But if I use polyfit's uncertainties, I recover ustar/zstar uncertainties that are consistent with curve_fit's.\n",
    "\n",
    "# Let's test these expressions\n",
    "num_sensors = 5\n",
    "base = 2.\n",
    "delta_x = np.log(base)\n",
    "sigma = 0.1*np.ones(num_sensors)\n",
    "slope = 10.\n",
    "intercept = 1.\n",
    "kappa = 0.4\n",
    "\n",
    "z = base**(np.linspace(0, num_sensors - 1, num_sensors))\n",
    "x = np.log(z/np.min(z))\n",
    "y = np.polyval([slope, intercept], x)\n",
    "\n",
    "ustar = kappa*slope\n",
    "zstar = np.min(z)*np.exp(-intercept/slope)\n",
    "\n",
    "print(ustar, zstar)\n",
    "print()\n",
    "\n",
    "num_tries = 10\n",
    "\n",
    "for i in range(num_tries):\n",
    "    noisy_y = y + normal(scale=sigma[0], size=num_sensors)\n",
    "    \n",
    "    popt, pcov = curve_fit(calc_wind_profile, z, noisy_y, sigma=sigma, p0=[ustar, zstar])\n",
    "    unc = np.sqrt(np.diag(pcov))\n",
    "    print(unc)\n",
    "\n",
    "    plt.errorbar([popt[0], popt[0]], [popt[1], popt[1]], xerr=[unc[0], unc[0]], yerr=[unc[1], unc[1]], \n",
    "                marker='o', color='blue', alpha=0.5, lw=6)\n",
    "    \n",
    "    popt, pcov = np.polyfit(x, noisy_y, 1, w=1/sigma, cov=True)\n",
    "    sigma_bm = pcov[1,0]\n",
    "    unc = np.sqrt(np.diag(pcov))\n",
    "\n",
    "    numerical_ustar = calc_ustar(*popt, np.min(z))\n",
    "    numerical_zstar = calc_zstar(*popt, np.min(z))\n",
    "\n",
    "    numerical_sigma_ustar = calc_sigma_ustar(delta_x, sigma[0], num_sensors, \n",
    "                                             numerical_ustar, numerical_zstar, np.min(z))\n",
    "    numerical_sigma_zstar = calc_sigma_zstar(delta_x, sigma[0], num_sensors, \n",
    "                                             numerical_ustar, numerical_zstar, np.min(z))\n",
    "    print(numerical_sigma_ustar, numerical_sigma_zstar)\n",
    "    \n",
    "    plt.errorbar([numerical_ustar, numerical_ustar], \n",
    "                 [numerical_zstar, numerical_zstar], \n",
    "                 xerr=[numerical_sigma_ustar, numerical_sigma_ustar], \n",
    "                 yerr=[numerical_sigma_zstar, numerical_sigma_zstar], \n",
    "            marker='o', color='orange', alpha=0.5)\n"
   ]
  }
 ],
 "metadata": {
  "kernelspec": {
   "display_name": "Python 3",
   "language": "python",
   "name": "python3"
  },
  "language_info": {
   "codemirror_mode": {
    "name": "ipython",
    "version": 3
   },
   "file_extension": ".py",
   "mimetype": "text/x-python",
   "name": "python",
   "nbconvert_exporter": "python",
   "pygments_lexer": "ipython3",
   "version": "3.8.8"
  }
 },
 "nbformat": 4,
 "nbformat_minor": 5
}
